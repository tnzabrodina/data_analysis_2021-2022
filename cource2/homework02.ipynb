{
  "nbformat": 4,
  "nbformat_minor": 0,
  "metadata": {
    "colab": {
      "name": "homework02_Zabrodina_213.ipynb",
      "provenance": [],
      "collapsed_sections": [
        "3hnF9Y5M-DtB"
      ]
    },
    "kernelspec": {
      "name": "python3",
      "display_name": "Python 3"
    },
    "language_info": {
      "name": "python"
    },
    "widgets": {
      "application/vnd.jupyter.widget-state+json": {
        "57cf47e6f10e44a59f06fbd777cbc1ff": {
          "model_module": "@jupyter-widgets/controls",
          "model_name": "HBoxModel",
          "model_module_version": "1.5.0",
          "state": {
            "_view_name": "HBoxView",
            "_dom_classes": [],
            "_model_name": "HBoxModel",
            "_view_module": "@jupyter-widgets/controls",
            "_model_module_version": "1.5.0",
            "_view_count": null,
            "_view_module_version": "1.5.0",
            "box_style": "",
            "layout": "IPY_MODEL_f22b5c8cfa9e4997af083a24c54c8243",
            "_model_module": "@jupyter-widgets/controls",
            "children": [
              "IPY_MODEL_9b3ee0be903740dcbb8dc1d3d3b0784b",
              "IPY_MODEL_2fea43d27a984ff89265a1ba0895568d",
              "IPY_MODEL_779ba6caf5824776a6959e83239d2266"
            ]
          }
        },
        "f22b5c8cfa9e4997af083a24c54c8243": {
          "model_module": "@jupyter-widgets/base",
          "model_name": "LayoutModel",
          "model_module_version": "1.2.0",
          "state": {
            "_view_name": "LayoutView",
            "grid_template_rows": null,
            "right": null,
            "justify_content": null,
            "_view_module": "@jupyter-widgets/base",
            "overflow": null,
            "_model_module_version": "1.2.0",
            "_view_count": null,
            "flex_flow": null,
            "width": null,
            "min_width": null,
            "border": null,
            "align_items": null,
            "bottom": null,
            "_model_module": "@jupyter-widgets/base",
            "top": null,
            "grid_column": null,
            "overflow_y": null,
            "overflow_x": null,
            "grid_auto_flow": null,
            "grid_area": null,
            "grid_template_columns": null,
            "flex": null,
            "_model_name": "LayoutModel",
            "justify_items": null,
            "grid_row": null,
            "max_height": null,
            "align_content": null,
            "visibility": null,
            "align_self": null,
            "height": null,
            "min_height": null,
            "padding": null,
            "grid_auto_rows": null,
            "grid_gap": null,
            "max_width": null,
            "order": null,
            "_view_module_version": "1.2.0",
            "grid_template_areas": null,
            "object_position": null,
            "object_fit": null,
            "grid_auto_columns": null,
            "margin": null,
            "display": null,
            "left": null
          }
        },
        "9b3ee0be903740dcbb8dc1d3d3b0784b": {
          "model_module": "@jupyter-widgets/controls",
          "model_name": "HTMLModel",
          "model_module_version": "1.5.0",
          "state": {
            "_view_name": "HTMLView",
            "style": "IPY_MODEL_40fa633edcb04b49b56a40bfa3c5aedc",
            "_dom_classes": [],
            "description": "",
            "_model_name": "HTMLModel",
            "placeholder": "​",
            "_view_module": "@jupyter-widgets/controls",
            "_model_module_version": "1.5.0",
            "value": "Computing transition probabilities: 100%",
            "_view_count": null,
            "_view_module_version": "1.5.0",
            "description_tooltip": null,
            "_model_module": "@jupyter-widgets/controls",
            "layout": "IPY_MODEL_3be9233426bd4cdea8a37b05af851ad8"
          }
        },
        "2fea43d27a984ff89265a1ba0895568d": {
          "model_module": "@jupyter-widgets/controls",
          "model_name": "FloatProgressModel",
          "model_module_version": "1.5.0",
          "state": {
            "_view_name": "ProgressView",
            "style": "IPY_MODEL_b3a793c0b9694cb3833387a7b5161587",
            "_dom_classes": [],
            "description": "",
            "_model_name": "FloatProgressModel",
            "bar_style": "success",
            "max": 1005,
            "_view_module": "@jupyter-widgets/controls",
            "_model_module_version": "1.5.0",
            "value": 1005,
            "_view_count": null,
            "_view_module_version": "1.5.0",
            "orientation": "horizontal",
            "min": 0,
            "description_tooltip": null,
            "_model_module": "@jupyter-widgets/controls",
            "layout": "IPY_MODEL_44b35fd407d44d829edc928e424cfa90"
          }
        },
        "779ba6caf5824776a6959e83239d2266": {
          "model_module": "@jupyter-widgets/controls",
          "model_name": "HTMLModel",
          "model_module_version": "1.5.0",
          "state": {
            "_view_name": "HTMLView",
            "style": "IPY_MODEL_318d03415dd4455f93ba3011bb48421d",
            "_dom_classes": [],
            "description": "",
            "_model_name": "HTMLModel",
            "placeholder": "​",
            "_view_module": "@jupyter-widgets/controls",
            "_model_module_version": "1.5.0",
            "value": " 1005/1005 [00:13&lt;00:00, 224.26it/s]",
            "_view_count": null,
            "_view_module_version": "1.5.0",
            "description_tooltip": null,
            "_model_module": "@jupyter-widgets/controls",
            "layout": "IPY_MODEL_12cd500c96d347ba89c1386e3543d53d"
          }
        },
        "40fa633edcb04b49b56a40bfa3c5aedc": {
          "model_module": "@jupyter-widgets/controls",
          "model_name": "DescriptionStyleModel",
          "model_module_version": "1.5.0",
          "state": {
            "_view_name": "StyleView",
            "_model_name": "DescriptionStyleModel",
            "description_width": "",
            "_view_module": "@jupyter-widgets/base",
            "_model_module_version": "1.5.0",
            "_view_count": null,
            "_view_module_version": "1.2.0",
            "_model_module": "@jupyter-widgets/controls"
          }
        },
        "3be9233426bd4cdea8a37b05af851ad8": {
          "model_module": "@jupyter-widgets/base",
          "model_name": "LayoutModel",
          "model_module_version": "1.2.0",
          "state": {
            "_view_name": "LayoutView",
            "grid_template_rows": null,
            "right": null,
            "justify_content": null,
            "_view_module": "@jupyter-widgets/base",
            "overflow": null,
            "_model_module_version": "1.2.0",
            "_view_count": null,
            "flex_flow": null,
            "width": null,
            "min_width": null,
            "border": null,
            "align_items": null,
            "bottom": null,
            "_model_module": "@jupyter-widgets/base",
            "top": null,
            "grid_column": null,
            "overflow_y": null,
            "overflow_x": null,
            "grid_auto_flow": null,
            "grid_area": null,
            "grid_template_columns": null,
            "flex": null,
            "_model_name": "LayoutModel",
            "justify_items": null,
            "grid_row": null,
            "max_height": null,
            "align_content": null,
            "visibility": null,
            "align_self": null,
            "height": null,
            "min_height": null,
            "padding": null,
            "grid_auto_rows": null,
            "grid_gap": null,
            "max_width": null,
            "order": null,
            "_view_module_version": "1.2.0",
            "grid_template_areas": null,
            "object_position": null,
            "object_fit": null,
            "grid_auto_columns": null,
            "margin": null,
            "display": null,
            "left": null
          }
        },
        "b3a793c0b9694cb3833387a7b5161587": {
          "model_module": "@jupyter-widgets/controls",
          "model_name": "ProgressStyleModel",
          "model_module_version": "1.5.0",
          "state": {
            "_view_name": "StyleView",
            "_model_name": "ProgressStyleModel",
            "description_width": "",
            "_view_module": "@jupyter-widgets/base",
            "_model_module_version": "1.5.0",
            "_view_count": null,
            "_view_module_version": "1.2.0",
            "bar_color": null,
            "_model_module": "@jupyter-widgets/controls"
          }
        },
        "44b35fd407d44d829edc928e424cfa90": {
          "model_module": "@jupyter-widgets/base",
          "model_name": "LayoutModel",
          "model_module_version": "1.2.0",
          "state": {
            "_view_name": "LayoutView",
            "grid_template_rows": null,
            "right": null,
            "justify_content": null,
            "_view_module": "@jupyter-widgets/base",
            "overflow": null,
            "_model_module_version": "1.2.0",
            "_view_count": null,
            "flex_flow": null,
            "width": null,
            "min_width": null,
            "border": null,
            "align_items": null,
            "bottom": null,
            "_model_module": "@jupyter-widgets/base",
            "top": null,
            "grid_column": null,
            "overflow_y": null,
            "overflow_x": null,
            "grid_auto_flow": null,
            "grid_area": null,
            "grid_template_columns": null,
            "flex": null,
            "_model_name": "LayoutModel",
            "justify_items": null,
            "grid_row": null,
            "max_height": null,
            "align_content": null,
            "visibility": null,
            "align_self": null,
            "height": null,
            "min_height": null,
            "padding": null,
            "grid_auto_rows": null,
            "grid_gap": null,
            "max_width": null,
            "order": null,
            "_view_module_version": "1.2.0",
            "grid_template_areas": null,
            "object_position": null,
            "object_fit": null,
            "grid_auto_columns": null,
            "margin": null,
            "display": null,
            "left": null
          }
        },
        "318d03415dd4455f93ba3011bb48421d": {
          "model_module": "@jupyter-widgets/controls",
          "model_name": "DescriptionStyleModel",
          "model_module_version": "1.5.0",
          "state": {
            "_view_name": "StyleView",
            "_model_name": "DescriptionStyleModel",
            "description_width": "",
            "_view_module": "@jupyter-widgets/base",
            "_model_module_version": "1.5.0",
            "_view_count": null,
            "_view_module_version": "1.2.0",
            "_model_module": "@jupyter-widgets/controls"
          }
        },
        "12cd500c96d347ba89c1386e3543d53d": {
          "model_module": "@jupyter-widgets/base",
          "model_name": "LayoutModel",
          "model_module_version": "1.2.0",
          "state": {
            "_view_name": "LayoutView",
            "grid_template_rows": null,
            "right": null,
            "justify_content": null,
            "_view_module": "@jupyter-widgets/base",
            "overflow": null,
            "_model_module_version": "1.2.0",
            "_view_count": null,
            "flex_flow": null,
            "width": null,
            "min_width": null,
            "border": null,
            "align_items": null,
            "bottom": null,
            "_model_module": "@jupyter-widgets/base",
            "top": null,
            "grid_column": null,
            "overflow_y": null,
            "overflow_x": null,
            "grid_auto_flow": null,
            "grid_area": null,
            "grid_template_columns": null,
            "flex": null,
            "_model_name": "LayoutModel",
            "justify_items": null,
            "grid_row": null,
            "max_height": null,
            "align_content": null,
            "visibility": null,
            "align_self": null,
            "height": null,
            "min_height": null,
            "padding": null,
            "grid_auto_rows": null,
            "grid_gap": null,
            "max_width": null,
            "order": null,
            "_view_module_version": "1.2.0",
            "grid_template_areas": null,
            "object_position": null,
            "object_fit": null,
            "grid_auto_columns": null,
            "margin": null,
            "display": null,
            "left": null
          }
        },
        "6954b4c0280b4e098d5d2bfe391fcacf": {
          "model_module": "@jupyter-widgets/controls",
          "model_name": "HBoxModel",
          "model_module_version": "1.5.0",
          "state": {
            "_view_name": "HBoxView",
            "_dom_classes": [],
            "_model_name": "HBoxModel",
            "_view_module": "@jupyter-widgets/controls",
            "_model_module_version": "1.5.0",
            "_view_count": null,
            "_view_module_version": "1.5.0",
            "box_style": "",
            "layout": "IPY_MODEL_d45a6b2ea842461f95fe48c9e472dc5c",
            "_model_module": "@jupyter-widgets/controls",
            "children": [
              "IPY_MODEL_7f14464e1e7440d3a406f4dabb036521",
              "IPY_MODEL_6125a5c97d9942e59087c6c16d749a4e",
              "IPY_MODEL_7805a54362f54c56a13c3bd94987ed7c"
            ]
          }
        },
        "d45a6b2ea842461f95fe48c9e472dc5c": {
          "model_module": "@jupyter-widgets/base",
          "model_name": "LayoutModel",
          "model_module_version": "1.2.0",
          "state": {
            "_view_name": "LayoutView",
            "grid_template_rows": null,
            "right": null,
            "justify_content": null,
            "_view_module": "@jupyter-widgets/base",
            "overflow": null,
            "_model_module_version": "1.2.0",
            "_view_count": null,
            "flex_flow": null,
            "width": null,
            "min_width": null,
            "border": null,
            "align_items": null,
            "bottom": null,
            "_model_module": "@jupyter-widgets/base",
            "top": null,
            "grid_column": null,
            "overflow_y": null,
            "overflow_x": null,
            "grid_auto_flow": null,
            "grid_area": null,
            "grid_template_columns": null,
            "flex": null,
            "_model_name": "LayoutModel",
            "justify_items": null,
            "grid_row": null,
            "max_height": null,
            "align_content": null,
            "visibility": null,
            "align_self": null,
            "height": null,
            "min_height": null,
            "padding": null,
            "grid_auto_rows": null,
            "grid_gap": null,
            "max_width": null,
            "order": null,
            "_view_module_version": "1.2.0",
            "grid_template_areas": null,
            "object_position": null,
            "object_fit": null,
            "grid_auto_columns": null,
            "margin": null,
            "display": null,
            "left": null
          }
        },
        "7f14464e1e7440d3a406f4dabb036521": {
          "model_module": "@jupyter-widgets/controls",
          "model_name": "HTMLModel",
          "model_module_version": "1.5.0",
          "state": {
            "_view_name": "HTMLView",
            "style": "IPY_MODEL_edd7376645d94107a26182cc089479de",
            "_dom_classes": [],
            "description": "",
            "_model_name": "HTMLModel",
            "placeholder": "​",
            "_view_module": "@jupyter-widgets/controls",
            "_model_module_version": "1.5.0",
            "value": "Computing transition probabilities: 100%",
            "_view_count": null,
            "_view_module_version": "1.5.0",
            "description_tooltip": null,
            "_model_module": "@jupyter-widgets/controls",
            "layout": "IPY_MODEL_cc7b368bc15f4529a06cac823a0e5d7c"
          }
        },
        "6125a5c97d9942e59087c6c16d749a4e": {
          "model_module": "@jupyter-widgets/controls",
          "model_name": "FloatProgressModel",
          "model_module_version": "1.5.0",
          "state": {
            "_view_name": "ProgressView",
            "style": "IPY_MODEL_be06be7a65d5400d9746a1894ddfff29",
            "_dom_classes": [],
            "description": "",
            "_model_name": "FloatProgressModel",
            "bar_style": "success",
            "max": 1005,
            "_view_module": "@jupyter-widgets/controls",
            "_model_module_version": "1.5.0",
            "value": 1005,
            "_view_count": null,
            "_view_module_version": "1.5.0",
            "orientation": "horizontal",
            "min": 0,
            "description_tooltip": null,
            "_model_module": "@jupyter-widgets/controls",
            "layout": "IPY_MODEL_6461db0f877a4cddbd35319d808e2277"
          }
        },
        "7805a54362f54c56a13c3bd94987ed7c": {
          "model_module": "@jupyter-widgets/controls",
          "model_name": "HTMLModel",
          "model_module_version": "1.5.0",
          "state": {
            "_view_name": "HTMLView",
            "style": "IPY_MODEL_572c11d28fb74fb9b92b1bfdf4d8b091",
            "_dom_classes": [],
            "description": "",
            "_model_name": "HTMLModel",
            "placeholder": "​",
            "_view_module": "@jupyter-widgets/controls",
            "_model_module_version": "1.5.0",
            "value": " 1005/1005 [00:08&lt;00:00, 508.30it/s]",
            "_view_count": null,
            "_view_module_version": "1.5.0",
            "description_tooltip": null,
            "_model_module": "@jupyter-widgets/controls",
            "layout": "IPY_MODEL_d6d41abbc550443896d40e1c820f1fe5"
          }
        },
        "edd7376645d94107a26182cc089479de": {
          "model_module": "@jupyter-widgets/controls",
          "model_name": "DescriptionStyleModel",
          "model_module_version": "1.5.0",
          "state": {
            "_view_name": "StyleView",
            "_model_name": "DescriptionStyleModel",
            "description_width": "",
            "_view_module": "@jupyter-widgets/base",
            "_model_module_version": "1.5.0",
            "_view_count": null,
            "_view_module_version": "1.2.0",
            "_model_module": "@jupyter-widgets/controls"
          }
        },
        "cc7b368bc15f4529a06cac823a0e5d7c": {
          "model_module": "@jupyter-widgets/base",
          "model_name": "LayoutModel",
          "model_module_version": "1.2.0",
          "state": {
            "_view_name": "LayoutView",
            "grid_template_rows": null,
            "right": null,
            "justify_content": null,
            "_view_module": "@jupyter-widgets/base",
            "overflow": null,
            "_model_module_version": "1.2.0",
            "_view_count": null,
            "flex_flow": null,
            "width": null,
            "min_width": null,
            "border": null,
            "align_items": null,
            "bottom": null,
            "_model_module": "@jupyter-widgets/base",
            "top": null,
            "grid_column": null,
            "overflow_y": null,
            "overflow_x": null,
            "grid_auto_flow": null,
            "grid_area": null,
            "grid_template_columns": null,
            "flex": null,
            "_model_name": "LayoutModel",
            "justify_items": null,
            "grid_row": null,
            "max_height": null,
            "align_content": null,
            "visibility": null,
            "align_self": null,
            "height": null,
            "min_height": null,
            "padding": null,
            "grid_auto_rows": null,
            "grid_gap": null,
            "max_width": null,
            "order": null,
            "_view_module_version": "1.2.0",
            "grid_template_areas": null,
            "object_position": null,
            "object_fit": null,
            "grid_auto_columns": null,
            "margin": null,
            "display": null,
            "left": null
          }
        },
        "be06be7a65d5400d9746a1894ddfff29": {
          "model_module": "@jupyter-widgets/controls",
          "model_name": "ProgressStyleModel",
          "model_module_version": "1.5.0",
          "state": {
            "_view_name": "StyleView",
            "_model_name": "ProgressStyleModel",
            "description_width": "",
            "_view_module": "@jupyter-widgets/base",
            "_model_module_version": "1.5.0",
            "_view_count": null,
            "_view_module_version": "1.2.0",
            "bar_color": null,
            "_model_module": "@jupyter-widgets/controls"
          }
        },
        "6461db0f877a4cddbd35319d808e2277": {
          "model_module": "@jupyter-widgets/base",
          "model_name": "LayoutModel",
          "model_module_version": "1.2.0",
          "state": {
            "_view_name": "LayoutView",
            "grid_template_rows": null,
            "right": null,
            "justify_content": null,
            "_view_module": "@jupyter-widgets/base",
            "overflow": null,
            "_model_module_version": "1.2.0",
            "_view_count": null,
            "flex_flow": null,
            "width": null,
            "min_width": null,
            "border": null,
            "align_items": null,
            "bottom": null,
            "_model_module": "@jupyter-widgets/base",
            "top": null,
            "grid_column": null,
            "overflow_y": null,
            "overflow_x": null,
            "grid_auto_flow": null,
            "grid_area": null,
            "grid_template_columns": null,
            "flex": null,
            "_model_name": "LayoutModel",
            "justify_items": null,
            "grid_row": null,
            "max_height": null,
            "align_content": null,
            "visibility": null,
            "align_self": null,
            "height": null,
            "min_height": null,
            "padding": null,
            "grid_auto_rows": null,
            "grid_gap": null,
            "max_width": null,
            "order": null,
            "_view_module_version": "1.2.0",
            "grid_template_areas": null,
            "object_position": null,
            "object_fit": null,
            "grid_auto_columns": null,
            "margin": null,
            "display": null,
            "left": null
          }
        },
        "572c11d28fb74fb9b92b1bfdf4d8b091": {
          "model_module": "@jupyter-widgets/controls",
          "model_name": "DescriptionStyleModel",
          "model_module_version": "1.5.0",
          "state": {
            "_view_name": "StyleView",
            "_model_name": "DescriptionStyleModel",
            "description_width": "",
            "_view_module": "@jupyter-widgets/base",
            "_model_module_version": "1.5.0",
            "_view_count": null,
            "_view_module_version": "1.2.0",
            "_model_module": "@jupyter-widgets/controls"
          }
        },
        "d6d41abbc550443896d40e1c820f1fe5": {
          "model_module": "@jupyter-widgets/base",
          "model_name": "LayoutModel",
          "model_module_version": "1.2.0",
          "state": {
            "_view_name": "LayoutView",
            "grid_template_rows": null,
            "right": null,
            "justify_content": null,
            "_view_module": "@jupyter-widgets/base",
            "overflow": null,
            "_model_module_version": "1.2.0",
            "_view_count": null,
            "flex_flow": null,
            "width": null,
            "min_width": null,
            "border": null,
            "align_items": null,
            "bottom": null,
            "_model_module": "@jupyter-widgets/base",
            "top": null,
            "grid_column": null,
            "overflow_y": null,
            "overflow_x": null,
            "grid_auto_flow": null,
            "grid_area": null,
            "grid_template_columns": null,
            "flex": null,
            "_model_name": "LayoutModel",
            "justify_items": null,
            "grid_row": null,
            "max_height": null,
            "align_content": null,
            "visibility": null,
            "align_self": null,
            "height": null,
            "min_height": null,
            "padding": null,
            "grid_auto_rows": null,
            "grid_gap": null,
            "max_width": null,
            "order": null,
            "_view_module_version": "1.2.0",
            "grid_template_areas": null,
            "object_position": null,
            "object_fit": null,
            "grid_auto_columns": null,
            "margin": null,
            "display": null,
            "left": null
          }
        },
        "12d14d552cbe45f481dcdac3380be28b": {
          "model_module": "@jupyter-widgets/controls",
          "model_name": "HBoxModel",
          "model_module_version": "1.5.0",
          "state": {
            "_view_name": "HBoxView",
            "_dom_classes": [],
            "_model_name": "HBoxModel",
            "_view_module": "@jupyter-widgets/controls",
            "_model_module_version": "1.5.0",
            "_view_count": null,
            "_view_module_version": "1.5.0",
            "box_style": "",
            "layout": "IPY_MODEL_e9c9b8509b3e4f98887aa27511a03246",
            "_model_module": "@jupyter-widgets/controls",
            "children": [
              "IPY_MODEL_0dd3eb716a8a44479c06a971be01f3e7",
              "IPY_MODEL_c6c1626c3d8e46dbb527a242ba1a51b8",
              "IPY_MODEL_f5f8b0ff14e54d61a9d0df5093efc90a"
            ]
          }
        },
        "e9c9b8509b3e4f98887aa27511a03246": {
          "model_module": "@jupyter-widgets/base",
          "model_name": "LayoutModel",
          "model_module_version": "1.2.0",
          "state": {
            "_view_name": "LayoutView",
            "grid_template_rows": null,
            "right": null,
            "justify_content": null,
            "_view_module": "@jupyter-widgets/base",
            "overflow": null,
            "_model_module_version": "1.2.0",
            "_view_count": null,
            "flex_flow": null,
            "width": null,
            "min_width": null,
            "border": null,
            "align_items": null,
            "bottom": null,
            "_model_module": "@jupyter-widgets/base",
            "top": null,
            "grid_column": null,
            "overflow_y": null,
            "overflow_x": null,
            "grid_auto_flow": null,
            "grid_area": null,
            "grid_template_columns": null,
            "flex": null,
            "_model_name": "LayoutModel",
            "justify_items": null,
            "grid_row": null,
            "max_height": null,
            "align_content": null,
            "visibility": null,
            "align_self": null,
            "height": null,
            "min_height": null,
            "padding": null,
            "grid_auto_rows": null,
            "grid_gap": null,
            "max_width": null,
            "order": null,
            "_view_module_version": "1.2.0",
            "grid_template_areas": null,
            "object_position": null,
            "object_fit": null,
            "grid_auto_columns": null,
            "margin": null,
            "display": null,
            "left": null
          }
        },
        "0dd3eb716a8a44479c06a971be01f3e7": {
          "model_module": "@jupyter-widgets/controls",
          "model_name": "HTMLModel",
          "model_module_version": "1.5.0",
          "state": {
            "_view_name": "HTMLView",
            "style": "IPY_MODEL_2f056e2557bc44e5b853448ada89386a",
            "_dom_classes": [],
            "description": "",
            "_model_name": "HTMLModel",
            "placeholder": "​",
            "_view_module": "@jupyter-widgets/controls",
            "_model_module_version": "1.5.0",
            "value": "Computing transition probabilities: 100%",
            "_view_count": null,
            "_view_module_version": "1.5.0",
            "description_tooltip": null,
            "_model_module": "@jupyter-widgets/controls",
            "layout": "IPY_MODEL_91556853dcbb46ddbc177089e79968da"
          }
        },
        "c6c1626c3d8e46dbb527a242ba1a51b8": {
          "model_module": "@jupyter-widgets/controls",
          "model_name": "FloatProgressModel",
          "model_module_version": "1.5.0",
          "state": {
            "_view_name": "ProgressView",
            "style": "IPY_MODEL_57abbaf8494a4db4b975e374203dea08",
            "_dom_classes": [],
            "description": "",
            "_model_name": "FloatProgressModel",
            "bar_style": "success",
            "max": 1005,
            "_view_module": "@jupyter-widgets/controls",
            "_model_module_version": "1.5.0",
            "value": 1005,
            "_view_count": null,
            "_view_module_version": "1.5.0",
            "orientation": "horizontal",
            "min": 0,
            "description_tooltip": null,
            "_model_module": "@jupyter-widgets/controls",
            "layout": "IPY_MODEL_b018db666735430cb28a2e720b8e79df"
          }
        },
        "f5f8b0ff14e54d61a9d0df5093efc90a": {
          "model_module": "@jupyter-widgets/controls",
          "model_name": "HTMLModel",
          "model_module_version": "1.5.0",
          "state": {
            "_view_name": "HTMLView",
            "style": "IPY_MODEL_a1d221b2e4e9438bbc28971ed5b063b3",
            "_dom_classes": [],
            "description": "",
            "_model_name": "HTMLModel",
            "placeholder": "​",
            "_view_module": "@jupyter-widgets/controls",
            "_model_module_version": "1.5.0",
            "value": " 1005/1005 [00:07&lt;00:00, 418.13it/s]",
            "_view_count": null,
            "_view_module_version": "1.5.0",
            "description_tooltip": null,
            "_model_module": "@jupyter-widgets/controls",
            "layout": "IPY_MODEL_910dd1eb13ad4dc6950b4f7c50cea0c2"
          }
        },
        "2f056e2557bc44e5b853448ada89386a": {
          "model_module": "@jupyter-widgets/controls",
          "model_name": "DescriptionStyleModel",
          "model_module_version": "1.5.0",
          "state": {
            "_view_name": "StyleView",
            "_model_name": "DescriptionStyleModel",
            "description_width": "",
            "_view_module": "@jupyter-widgets/base",
            "_model_module_version": "1.5.0",
            "_view_count": null,
            "_view_module_version": "1.2.0",
            "_model_module": "@jupyter-widgets/controls"
          }
        },
        "91556853dcbb46ddbc177089e79968da": {
          "model_module": "@jupyter-widgets/base",
          "model_name": "LayoutModel",
          "model_module_version": "1.2.0",
          "state": {
            "_view_name": "LayoutView",
            "grid_template_rows": null,
            "right": null,
            "justify_content": null,
            "_view_module": "@jupyter-widgets/base",
            "overflow": null,
            "_model_module_version": "1.2.0",
            "_view_count": null,
            "flex_flow": null,
            "width": null,
            "min_width": null,
            "border": null,
            "align_items": null,
            "bottom": null,
            "_model_module": "@jupyter-widgets/base",
            "top": null,
            "grid_column": null,
            "overflow_y": null,
            "overflow_x": null,
            "grid_auto_flow": null,
            "grid_area": null,
            "grid_template_columns": null,
            "flex": null,
            "_model_name": "LayoutModel",
            "justify_items": null,
            "grid_row": null,
            "max_height": null,
            "align_content": null,
            "visibility": null,
            "align_self": null,
            "height": null,
            "min_height": null,
            "padding": null,
            "grid_auto_rows": null,
            "grid_gap": null,
            "max_width": null,
            "order": null,
            "_view_module_version": "1.2.0",
            "grid_template_areas": null,
            "object_position": null,
            "object_fit": null,
            "grid_auto_columns": null,
            "margin": null,
            "display": null,
            "left": null
          }
        },
        "57abbaf8494a4db4b975e374203dea08": {
          "model_module": "@jupyter-widgets/controls",
          "model_name": "ProgressStyleModel",
          "model_module_version": "1.5.0",
          "state": {
            "_view_name": "StyleView",
            "_model_name": "ProgressStyleModel",
            "description_width": "",
            "_view_module": "@jupyter-widgets/base",
            "_model_module_version": "1.5.0",
            "_view_count": null,
            "_view_module_version": "1.2.0",
            "bar_color": null,
            "_model_module": "@jupyter-widgets/controls"
          }
        },
        "b018db666735430cb28a2e720b8e79df": {
          "model_module": "@jupyter-widgets/base",
          "model_name": "LayoutModel",
          "model_module_version": "1.2.0",
          "state": {
            "_view_name": "LayoutView",
            "grid_template_rows": null,
            "right": null,
            "justify_content": null,
            "_view_module": "@jupyter-widgets/base",
            "overflow": null,
            "_model_module_version": "1.2.0",
            "_view_count": null,
            "flex_flow": null,
            "width": null,
            "min_width": null,
            "border": null,
            "align_items": null,
            "bottom": null,
            "_model_module": "@jupyter-widgets/base",
            "top": null,
            "grid_column": null,
            "overflow_y": null,
            "overflow_x": null,
            "grid_auto_flow": null,
            "grid_area": null,
            "grid_template_columns": null,
            "flex": null,
            "_model_name": "LayoutModel",
            "justify_items": null,
            "grid_row": null,
            "max_height": null,
            "align_content": null,
            "visibility": null,
            "align_self": null,
            "height": null,
            "min_height": null,
            "padding": null,
            "grid_auto_rows": null,
            "grid_gap": null,
            "max_width": null,
            "order": null,
            "_view_module_version": "1.2.0",
            "grid_template_areas": null,
            "object_position": null,
            "object_fit": null,
            "grid_auto_columns": null,
            "margin": null,
            "display": null,
            "left": null
          }
        },
        "a1d221b2e4e9438bbc28971ed5b063b3": {
          "model_module": "@jupyter-widgets/controls",
          "model_name": "DescriptionStyleModel",
          "model_module_version": "1.5.0",
          "state": {
            "_view_name": "StyleView",
            "_model_name": "DescriptionStyleModel",
            "description_width": "",
            "_view_module": "@jupyter-widgets/base",
            "_model_module_version": "1.5.0",
            "_view_count": null,
            "_view_module_version": "1.2.0",
            "_model_module": "@jupyter-widgets/controls"
          }
        },
        "910dd1eb13ad4dc6950b4f7c50cea0c2": {
          "model_module": "@jupyter-widgets/base",
          "model_name": "LayoutModel",
          "model_module_version": "1.2.0",
          "state": {
            "_view_name": "LayoutView",
            "grid_template_rows": null,
            "right": null,
            "justify_content": null,
            "_view_module": "@jupyter-widgets/base",
            "overflow": null,
            "_model_module_version": "1.2.0",
            "_view_count": null,
            "flex_flow": null,
            "width": null,
            "min_width": null,
            "border": null,
            "align_items": null,
            "bottom": null,
            "_model_module": "@jupyter-widgets/base",
            "top": null,
            "grid_column": null,
            "overflow_y": null,
            "overflow_x": null,
            "grid_auto_flow": null,
            "grid_area": null,
            "grid_template_columns": null,
            "flex": null,
            "_model_name": "LayoutModel",
            "justify_items": null,
            "grid_row": null,
            "max_height": null,
            "align_content": null,
            "visibility": null,
            "align_self": null,
            "height": null,
            "min_height": null,
            "padding": null,
            "grid_auto_rows": null,
            "grid_gap": null,
            "max_width": null,
            "order": null,
            "_view_module_version": "1.2.0",
            "grid_template_areas": null,
            "object_position": null,
            "object_fit": null,
            "grid_auto_columns": null,
            "margin": null,
            "display": null,
            "left": null
          }
        }
      }
    }
  },
  "cells": [
    {
      "cell_type": "markdown",
      "metadata": {
        "id": "AHuNpAAE99CG"
      },
      "source": [
        "# Домашнее задание (30 баллов)\n",
        "\n",
        "* Для задачи 1 используйте данные:[сеть](https://drive.google.com/file/d/1W5GrHAvxG4AjFm6kzwNyzoAA7jt48cJ5/view?usp=sharing), [метки вершин](https://drive.google.com/file/d/1CXh27cW2J5HzmIpqy1PFoeE_Cse7oDPW/view?usp=sharing). \n",
        "\n",
        "* Для задачи 2,3 [данные](https://snap.stanford.edu/data/email-Eu-core.html) (предварительно сделайте сеть ненаправленной)."
      ]
    },
    {
      "cell_type": "markdown",
      "metadata": {
        "id": "WD2dTTfv-Db8"
      },
      "source": [
        "## 1. Классификация вершин (10 баллов) \n",
        "\n",
        "Будем решать задачу предсказания влиятельности вершин как задачу классификации. Разобьем отрезок $\\left [ s_{i}^{min},s_{i}^{max}\\right ]$ на $k$ одинаковых отрезков, и разметим вершины, чьи значения $s_{i}$ лежит в $\\left[s_i^{(j-1)},s_i^{(j)} \\right)$, $j = 1, 2 \\dots k$, меткой $j$, т.е. значение класса $l_i$ для $i$-ой вершины определяется: \n",
        "\n",
        "$$\n",
        "l_i=\\left [k \\frac{s_i-s_i^{min}}{s_i^{max}-s_i^{min}}\\right]. \n",
        "$$\n",
        "\n",
        "Для k=2 задача превращается в задачу бинарной классификации. \n",
        "\n",
        "1. Вычислите различные структурные признаки вершин: центральности, кластеризацию, k-core\n",
        "\n",
        "2.  Исследуйте корреляцию между признаками и целевой переменой \n",
        "\n",
        "3. Разделите выборку на обучающую и тестовую, постройте модели классификации (бинарной), выведите метрики качества, подберите оптимальные гиперпараметры\n",
        "\n",
        "4. Проанализируйте важность признаков "
      ]
    },
    {
      "cell_type": "code",
      "source": [
        "import numpy as np\n",
        "import matplotlib.pyplot as plt\n",
        "import networkx as nx \n",
        "import pandas as pd\n",
        "import pandas as pd\n",
        "import random\n",
        "%matplotlib inline"
      ],
      "metadata": {
        "id": "1EVYq95tiN1n"
      },
      "execution_count": null,
      "outputs": []
    },
    {
      "cell_type": "code",
      "source": [
        "#from google.colab import files\n",
        "#files.upload()\n",
        "import gdown\n",
        "\n",
        "!gdown --id 1W5GrHAvxG4AjFm6kzwNyzoAA7jt48cJ5\n"
      ],
      "metadata": {
        "colab": {
          "base_uri": "https://localhost:8080/"
        },
        "id": "bzjHW611iw-W",
        "outputId": "1bf850a8-7209-4f65-85f2-af6a1301c2b1"
      },
      "execution_count": null,
      "outputs": [
        {
          "output_type": "stream",
          "name": "stdout",
          "text": [
            "Downloading...\n",
            "From: https://drive.google.com/uc?id=1W5GrHAvxG4AjFm6kzwNyzoAA7jt48cJ5\n",
            "To: /content/ca-GrQc.mtx\n",
            "\r  0% 0.00/140k [00:00<?, ?B/s]\r100% 140k/140k [00:00<00:00, 4.50MB/s]\n"
          ]
        }
      ]
    },
    {
      "cell_type": "code",
      "source": [
        "G=nx.read_adjlist('ca-GrQc.mtx')\n",
        "print(G.number_of_nodes(),G.number_of_edges())"
      ],
      "metadata": {
        "colab": {
          "base_uri": "https://localhost:8080/"
        },
        "id": "7dmmPhERi6fw",
        "outputId": "c7d068fd-8d1d-4e1c-e130-9b477f2071a7"
      },
      "execution_count": null,
      "outputs": [
        {
          "output_type": "stream",
          "name": "stdout",
          "text": [
            "4158 13422\n"
          ]
        }
      ]
    },
    {
      "cell_type": "code",
      "source": [
        "!gdown --id 1CXh27cW2J5HzmIpqy1PFoeE_Cse7oDPW\n",
        "\n",
        "df=pd.read_csv('spreading_data_ca-GrQc.csv')\n",
        "df.head()"
      ],
      "metadata": {
        "colab": {
          "base_uri": "https://localhost:8080/",
          "height": 276
        },
        "id": "oWWMdNHwi6lG",
        "outputId": "aa11f472-65d2-42ca-fae2-1a70d2871dc4"
      },
      "execution_count": null,
      "outputs": [
        {
          "output_type": "stream",
          "name": "stdout",
          "text": [
            "Downloading...\n",
            "From: https://drive.google.com/uc?id=1CXh27cW2J5HzmIpqy1PFoeE_Cse7oDPW\n",
            "To: /content/spreading_data_ca-GrQc.csv\n",
            "\r  0% 0.00/104k [00:00<?, ?B/s]\r100% 104k/104k [00:00<00:00, 3.34MB/s]\n"
          ]
        },
        {
          "output_type": "execute_result",
          "data": {
            "text/html": [
              "\n",
              "  <div id=\"df-6e3ea742-914c-4bac-9f51-e904c431a3bd\">\n",
              "    <div class=\"colab-df-container\">\n",
              "      <div>\n",
              "<style scoped>\n",
              "    .dataframe tbody tr th:only-of-type {\n",
              "        vertical-align: middle;\n",
              "    }\n",
              "\n",
              "    .dataframe tbody tr th {\n",
              "        vertical-align: top;\n",
              "    }\n",
              "\n",
              "    .dataframe thead th {\n",
              "        text-align: right;\n",
              "    }\n",
              "</style>\n",
              "<table border=\"1\" class=\"dataframe\">\n",
              "  <thead>\n",
              "    <tr style=\"text-align: right;\">\n",
              "      <th></th>\n",
              "      <th>node</th>\n",
              "      <th>spreading ability</th>\n",
              "    </tr>\n",
              "  </thead>\n",
              "  <tbody>\n",
              "    <tr>\n",
              "      <th>0</th>\n",
              "      <td>19</td>\n",
              "      <td>0.414141</td>\n",
              "    </tr>\n",
              "    <tr>\n",
              "      <th>1</th>\n",
              "      <td>1</td>\n",
              "      <td>0.418711</td>\n",
              "    </tr>\n",
              "    <tr>\n",
              "      <th>2</th>\n",
              "      <td>1751</td>\n",
              "      <td>0.402116</td>\n",
              "    </tr>\n",
              "    <tr>\n",
              "      <th>3</th>\n",
              "      <td>2408</td>\n",
              "      <td>0.389610</td>\n",
              "    </tr>\n",
              "    <tr>\n",
              "      <th>4</th>\n",
              "      <td>3078</td>\n",
              "      <td>0.409572</td>\n",
              "    </tr>\n",
              "  </tbody>\n",
              "</table>\n",
              "</div>\n",
              "      <button class=\"colab-df-convert\" onclick=\"convertToInteractive('df-6e3ea742-914c-4bac-9f51-e904c431a3bd')\"\n",
              "              title=\"Convert this dataframe to an interactive table.\"\n",
              "              style=\"display:none;\">\n",
              "        \n",
              "  <svg xmlns=\"http://www.w3.org/2000/svg\" height=\"24px\"viewBox=\"0 0 24 24\"\n",
              "       width=\"24px\">\n",
              "    <path d=\"M0 0h24v24H0V0z\" fill=\"none\"/>\n",
              "    <path d=\"M18.56 5.44l.94 2.06.94-2.06 2.06-.94-2.06-.94-.94-2.06-.94 2.06-2.06.94zm-11 1L8.5 8.5l.94-2.06 2.06-.94-2.06-.94L8.5 2.5l-.94 2.06-2.06.94zm10 10l.94 2.06.94-2.06 2.06-.94-2.06-.94-.94-2.06-.94 2.06-2.06.94z\"/><path d=\"M17.41 7.96l-1.37-1.37c-.4-.4-.92-.59-1.43-.59-.52 0-1.04.2-1.43.59L10.3 9.45l-7.72 7.72c-.78.78-.78 2.05 0 2.83L4 21.41c.39.39.9.59 1.41.59.51 0 1.02-.2 1.41-.59l7.78-7.78 2.81-2.81c.8-.78.8-2.07 0-2.86zM5.41 20L4 18.59l7.72-7.72 1.47 1.35L5.41 20z\"/>\n",
              "  </svg>\n",
              "      </button>\n",
              "      \n",
              "  <style>\n",
              "    .colab-df-container {\n",
              "      display:flex;\n",
              "      flex-wrap:wrap;\n",
              "      gap: 12px;\n",
              "    }\n",
              "\n",
              "    .colab-df-convert {\n",
              "      background-color: #E8F0FE;\n",
              "      border: none;\n",
              "      border-radius: 50%;\n",
              "      cursor: pointer;\n",
              "      display: none;\n",
              "      fill: #1967D2;\n",
              "      height: 32px;\n",
              "      padding: 0 0 0 0;\n",
              "      width: 32px;\n",
              "    }\n",
              "\n",
              "    .colab-df-convert:hover {\n",
              "      background-color: #E2EBFA;\n",
              "      box-shadow: 0px 1px 2px rgba(60, 64, 67, 0.3), 0px 1px 3px 1px rgba(60, 64, 67, 0.15);\n",
              "      fill: #174EA6;\n",
              "    }\n",
              "\n",
              "    [theme=dark] .colab-df-convert {\n",
              "      background-color: #3B4455;\n",
              "      fill: #D2E3FC;\n",
              "    }\n",
              "\n",
              "    [theme=dark] .colab-df-convert:hover {\n",
              "      background-color: #434B5C;\n",
              "      box-shadow: 0px 1px 3px 1px rgba(0, 0, 0, 0.15);\n",
              "      filter: drop-shadow(0px 1px 2px rgba(0, 0, 0, 0.3));\n",
              "      fill: #FFFFFF;\n",
              "    }\n",
              "  </style>\n",
              "\n",
              "      <script>\n",
              "        const buttonEl =\n",
              "          document.querySelector('#df-6e3ea742-914c-4bac-9f51-e904c431a3bd button.colab-df-convert');\n",
              "        buttonEl.style.display =\n",
              "          google.colab.kernel.accessAllowed ? 'block' : 'none';\n",
              "\n",
              "        async function convertToInteractive(key) {\n",
              "          const element = document.querySelector('#df-6e3ea742-914c-4bac-9f51-e904c431a3bd');\n",
              "          const dataTable =\n",
              "            await google.colab.kernel.invokeFunction('convertToInteractive',\n",
              "                                                     [key], {});\n",
              "          if (!dataTable) return;\n",
              "\n",
              "          const docLinkHtml = 'Like what you see? Visit the ' +\n",
              "            '<a target=\"_blank\" href=https://colab.research.google.com/notebooks/data_table.ipynb>data table notebook</a>'\n",
              "            + ' to learn more about interactive tables.';\n",
              "          element.innerHTML = '';\n",
              "          dataTable['output_type'] = 'display_data';\n",
              "          await google.colab.output.renderOutput(dataTable, element);\n",
              "          const docLink = document.createElement('div');\n",
              "          docLink.innerHTML = docLinkHtml;\n",
              "          element.appendChild(docLink);\n",
              "        }\n",
              "      </script>\n",
              "    </div>\n",
              "  </div>\n",
              "  "
            ],
            "text/plain": [
              "   node  spreading ability\n",
              "0    19           0.414141\n",
              "1     1           0.418711\n",
              "2  1751           0.402116\n",
              "3  2408           0.389610\n",
              "4  3078           0.409572"
            ]
          },
          "metadata": {},
          "execution_count": 4
        }
      ]
    },
    {
      "cell_type": "code",
      "source": [
        "k=2 # для бинарной классификации\n",
        "s=list(df['spreading ability'])\n",
        "l=[]\n",
        "for v in s: \n",
        "  t=k*(v-df['spreading ability'].min())//(df['spreading ability'].max()-df['spreading ability'].min())\n",
        "  if (t==k):\n",
        "    t=k-1\n",
        "  l.append(t)\n",
        "\n",
        "Y=np.array(l)"
      ],
      "metadata": {
        "id": "xntad_26hlC7"
      },
      "execution_count": null,
      "outputs": []
    },
    {
      "cell_type": "code",
      "source": [
        "Y"
      ],
      "metadata": {
        "colab": {
          "base_uri": "https://localhost:8080/"
        },
        "id": "12cE0zSShlHv",
        "outputId": "d18b14ef-4793-4cd6-bdde-e7ff9bb2e7d4"
      },
      "execution_count": null,
      "outputs": [
        {
          "output_type": "execute_result",
          "data": {
            "text/plain": [
              "array([1., 1., 1., ..., 1., 0., 1.])"
            ]
          },
          "metadata": {},
          "execution_count": 6
        }
      ]
    },
    {
      "cell_type": "markdown",
      "source": [
        "#### 1.1. Вычислите различные структурные признаки вершин: центральности, кластеризацию, k-core"
      ],
      "metadata": {
        "id": "X_caE_o_l-lm"
      }
    },
    {
      "cell_type": "code",
      "source": [
        "degree_central = nx.degree_centrality(G)\n",
        "eigenvector_central = nx.eigenvector_centrality(G)\n",
        "closeness_central = nx.closeness_centrality(G)\n",
        "betweenness_central = nx.betweenness_centrality(G)"
      ],
      "metadata": {
        "id": "MTAMVsc4hlLF"
      },
      "execution_count": null,
      "outputs": []
    },
    {
      "cell_type": "code",
      "source": [
        "fig, ax = plt.subplots(nrows=2,ncols=4,figsize=(20, 8))\n",
        "  \n",
        "ax[0][0].hist(list(degree_central.values()))\n",
        "ax[0][0].set_title('Degree centrality', fontsize=12)\n",
        "ax[0][0].set_ylabel('count of values', fontsize=12)\n",
        "\n",
        "ax[0][1].hist(list(eigenvector_central.values()))\n",
        "ax[0][1].set_title('Eigenvector centrality', fontsize=12)\n",
        "\n",
        "ax[0][2].hist(list(closeness_central.values()))\n",
        "ax[0][2].set_title('Closeness centrality', fontsize=12)\n",
        "\n",
        "ax[0][3].hist(list(betweenness_central.values()))\n",
        "ax[0][3].set_title('Betweenness centrality', fontsize=12)\n",
        "  \n",
        "ax[1][0].hist(list(degree_central.values()), color='cornflowerblue')\n",
        "ax[1][0].set_xlabel('Degree centrality', fontsize=12)\n",
        "ax[1][0].set_ylabel('count of values\\n (in log scale)', fontsize=12)\n",
        "ax[1][0].set_yscale('log')\n",
        "\n",
        "ax[1][1].hist(list(eigenvector_central.values()), color='cornflowerblue')\n",
        "ax[1][1].set_xlabel('Eigenvector centrality', fontsize=12)\n",
        "ax[1][1].set_yscale('log')\n",
        "\n",
        "ax[1][2].hist(list(closeness_central.values()), color='cornflowerblue')\n",
        "ax[1][2].set_xlabel('Closeness centrality', fontsize=12)\n",
        "ax[1][2].set_yscale('log')\n",
        "\n",
        "ax[1][3].hist(list(betweenness_central.values()), color='cornflowerblue')\n",
        "ax[1][3].set_xlabel('Betweenness centrality', fontsize=12)\n",
        "ax[1][3].set_yscale('log')\n",
        "\n",
        "fig.suptitle('Centrality', fontsize=18)\n",
        "plt.subplots_adjust(hspace=0.1)#wspace=0.2\n",
        "\n",
        "plt.show()"
      ],
      "metadata": {
        "colab": {
          "base_uri": "https://localhost:8080/",
          "height": 557
        },
        "id": "YlZ0zXKohlUi",
        "outputId": "566a7e5c-fd53-4483-ea33-92269ec4c325"
      },
      "execution_count": null,
      "outputs": [
        {
          "output_type": "display_data",
          "data": {
            "image/png": "[encoded data removed]",
            "text/plain": [
              "<Figure size 1440x576 with 8 Axes>"
            ]
          },
          "metadata": {
            "needs_background": "light"
          }
        }
      ]
    },
    {
      "cell_type": "code",
      "source": [
        "arr_clust_coef = nx.clustering(G)"
      ],
      "metadata": {
        "id": "dfMuyx_eyVO_"
      },
      "execution_count": null,
      "outputs": []
    },
    {
      "cell_type": "code",
      "source": [
        "fig, ax = plt.subplots(nrows=1,ncols=2,figsize=(15, 4))\n",
        "  \n",
        "ax[0].hist(list(arr_clust_coef.values()), bins=100)\n",
        "ax[0].set_xlabel('$C$', fontsize=12)\n",
        "ax[0].set_ylabel('count of $C$', fontsize=12)\n",
        "ax[0].set_title('Clustering disribution', fontsize=16)\n",
        "\n",
        "ax[1].hist(list(arr_clust_coef.values()), bins=100, log=True)\n",
        "ax[1].set_xlabel('$C$', fontsize=12)\n",
        "ax[1].set_ylabel('count of $C$', fontsize=12)\n",
        "ax[1].set_title('Clustering disribution (log scale)', fontsize=16)\n",
        "\n",
        "plt.show()"
      ],
      "metadata": {
        "colab": {
          "base_uri": "https://localhost:8080/",
          "height": 300
        },
        "id": "feLdzslfhlXw",
        "outputId": "9d632ebd-cedf-4d64-a36f-da350cd6b6e8"
      },
      "execution_count": null,
      "outputs": [
        {
          "output_type": "display_data",
          "data": {
            "image/png": "[encoded data removed]",
            "text/plain": [
              "<Figure size 1080x288 with 2 Axes>"
            ]
          },
          "metadata": {
            "needs_background": "light"
          }
        }
      ]
    },
    {
      "cell_type": "code",
      "source": [
        "#вытащим все core\n",
        "kg_arr = []\n",
        "k=1\n",
        "kG=nx.k_core(G,k)\n",
        "while len(list(kG))!=0:\n",
        "    kG=nx.k_core(G,k)\n",
        "    kG=[int(i) for i in kG]\n",
        "    kg_arr.append((k,kG))\n",
        "    k+=1"
      ],
      "metadata": {
        "id": "A3Tg41Cj0Q27"
      },
      "execution_count": null,
      "outputs": []
    },
    {
      "cell_type": "code",
      "source": [
        "#словарь нода:последний core в который входит\n",
        "nodes = [int(i) for i in G.nodes()]\n",
        "core_dict = {}\n",
        "for n in nodes:\n",
        "    buf = []\n",
        "    for j in range(len(kg_arr)-1):\n",
        "        if n in kg_arr[j][1]:\n",
        "            buf.append(kg_arr[j][0])\n",
        "    core_dict[n]=np.max(buf)"
      ],
      "metadata": {
        "id": "aKtgg5kWcY5_"
      },
      "execution_count": null,
      "outputs": []
    },
    {
      "cell_type": "code",
      "source": [
        "#соберем список для df\n",
        "core_arr = []\n",
        "for i in (df['node']):\n",
        "    core_arr.append(core_dict.get(i))"
      ],
      "metadata": {
        "id": "-FjCitEIfGGN"
      },
      "execution_count": null,
      "outputs": []
    },
    {
      "cell_type": "markdown",
      "source": [
        "#### 1.2. Исследуйте корреляцию между признаками и целевой переменой"
      ],
      "metadata": {
        "id": "OWeoE0hE1n6T"
      }
    },
    {
      "cell_type": "code",
      "source": [
        "df1 = df.copy()\n",
        "\n",
        "df1['degree centrality'] = list(degree_central.values())\n",
        "df1['eigenvector centrality'] = list(eigenvector_central.values())\n",
        "df1['closeness centrality'] = list(closeness_central.values())\n",
        "df1['betweenness centrality'] = list(betweenness_central.values())\n",
        "df1['clustering'] = list(arr_clust_coef.values())\n",
        "df1['cores'] = list(core_arr)\n",
        "df1['class'] = list(Y)"
      ],
      "metadata": {
        "id": "ccA7wGD375cU"
      },
      "execution_count": null,
      "outputs": []
    },
    {
      "cell_type": "code",
      "source": [
        "df1.head()"
      ],
      "metadata": {
        "colab": {
          "base_uri": "https://localhost:8080/",
          "height": 206
        },
        "id": "a03sWDRYikLh",
        "outputId": "16106de9-a3c5-4286-8327-434d9558cd72"
      },
      "execution_count": null,
      "outputs": [
        {
          "output_type": "execute_result",
          "data": {
            "text/html": [
              "\n",
              "  <div id=\"df-3feb206b-065a-439e-aca5-98c64ab5677a\">\n",
              "    <div class=\"colab-df-container\">\n",
              "      <div>\n",
              "<style scoped>\n",
              "    .dataframe tbody tr th:only-of-type {\n",
              "        vertical-align: middle;\n",
              "    }\n",
              "\n",
              "    .dataframe tbody tr th {\n",
              "        vertical-align: top;\n",
              "    }\n",
              "\n",
              "    .dataframe thead th {\n",
              "        text-align: right;\n",
              "    }\n",
              "</style>\n",
              "<table border=\"1\" class=\"dataframe\">\n",
              "  <thead>\n",
              "    <tr style=\"text-align: right;\">\n",
              "      <th></th>\n",
              "      <th>node</th>\n",
              "      <th>spreading ability</th>\n",
              "      <th>degree centrality</th>\n",
              "      <th>eigenvector centrality</th>\n",
              "      <th>closeness centrality</th>\n",
              "      <th>betweenness centrality</th>\n",
              "      <th>clustering</th>\n",
              "      <th>cores</th>\n",
              "      <th>class</th>\n",
              "    </tr>\n",
              "  </thead>\n",
              "  <tbody>\n",
              "    <tr>\n",
              "      <th>0</th>\n",
              "      <td>19</td>\n",
              "      <td>0.414141</td>\n",
              "      <td>0.000962</td>\n",
              "      <td>1.978526e-07</td>\n",
              "      <td>0.184101</td>\n",
              "      <td>0.002893</td>\n",
              "      <td>0.500000</td>\n",
              "      <td>3</td>\n",
              "      <td>1.0</td>\n",
              "    </tr>\n",
              "    <tr>\n",
              "      <th>1</th>\n",
              "      <td>1</td>\n",
              "      <td>0.418711</td>\n",
              "      <td>0.001443</td>\n",
              "      <td>1.930278e-08</td>\n",
              "      <td>0.159047</td>\n",
              "      <td>0.002290</td>\n",
              "      <td>0.333333</td>\n",
              "      <td>3</td>\n",
              "      <td>1.0</td>\n",
              "    </tr>\n",
              "    <tr>\n",
              "      <th>2</th>\n",
              "      <td>1751</td>\n",
              "      <td>0.402116</td>\n",
              "      <td>0.000722</td>\n",
              "      <td>1.893130e-08</td>\n",
              "      <td>0.158980</td>\n",
              "      <td>0.000000</td>\n",
              "      <td>1.000000</td>\n",
              "      <td>3</td>\n",
              "      <td>1.0</td>\n",
              "    </tr>\n",
              "    <tr>\n",
              "      <th>3</th>\n",
              "      <td>2408</td>\n",
              "      <td>0.389610</td>\n",
              "      <td>0.001203</td>\n",
              "      <td>5.769050e-07</td>\n",
              "      <td>0.171225</td>\n",
              "      <td>0.001707</td>\n",
              "      <td>0.400000</td>\n",
              "      <td>3</td>\n",
              "      <td>0.0</td>\n",
              "    </tr>\n",
              "    <tr>\n",
              "      <th>4</th>\n",
              "      <td>3078</td>\n",
              "      <td>0.409572</td>\n",
              "      <td>0.000722</td>\n",
              "      <td>1.450752e-08</td>\n",
              "      <td>0.146260</td>\n",
              "      <td>0.000481</td>\n",
              "      <td>0.333333</td>\n",
              "      <td>2</td>\n",
              "      <td>1.0</td>\n",
              "    </tr>\n",
              "  </tbody>\n",
              "</table>\n",
              "</div>\n",
              "      <button class=\"colab-df-convert\" onclick=\"convertToInteractive('df-3feb206b-065a-439e-aca5-98c64ab5677a')\"\n",
              "              title=\"Convert this dataframe to an interactive table.\"\n",
              "              style=\"display:none;\">\n",
              "        \n",
              "  <svg xmlns=\"http://www.w3.org/2000/svg\" height=\"24px\"viewBox=\"0 0 24 24\"\n",
              "       width=\"24px\">\n",
              "    <path d=\"M0 0h24v24H0V0z\" fill=\"none\"/>\n",
              "    <path d=\"M18.56 5.44l.94 2.06.94-2.06 2.06-.94-2.06-.94-.94-2.06-.94 2.06-2.06.94zm-11 1L8.5 8.5l.94-2.06 2.06-.94-2.06-.94L8.5 2.5l-.94 2.06-2.06.94zm10 10l.94 2.06.94-2.06 2.06-.94-2.06-.94-.94-2.06-.94 2.06-2.06.94z\"/><path d=\"M17.41 7.96l-1.37-1.37c-.4-.4-.92-.59-1.43-.59-.52 0-1.04.2-1.43.59L10.3 9.45l-7.72 7.72c-.78.78-.78 2.05 0 2.83L4 21.41c.39.39.9.59 1.41.59.51 0 1.02-.2 1.41-.59l7.78-7.78 2.81-2.81c.8-.78.8-2.07 0-2.86zM5.41 20L4 18.59l7.72-7.72 1.47 1.35L5.41 20z\"/>\n",
              "  </svg>\n",
              "      </button>\n",
              "      \n",
              "  <style>\n",
              "    .colab-df-container {\n",
              "      display:flex;\n",
              "      flex-wrap:wrap;\n",
              "      gap: 12px;\n",
              "    }\n",
              "\n",
              "    .colab-df-convert {\n",
              "      background-color: #E8F0FE;\n",
              "      border: none;\n",
              "      border-radius: 50%;\n",
              "      cursor: pointer;\n",
              "      display: none;\n",
              "      fill: #1967D2;\n",
              "      height: 32px;\n",
              "      padding: 0 0 0 0;\n",
              "      width: 32px;\n",
              "    }\n",
              "\n",
              "    .colab-df-convert:hover {\n",
              "      background-color: #E2EBFA;\n",
              "      box-shadow: 0px 1px 2px rgba(60, 64, 67, 0.3), 0px 1px 3px 1px rgba(60, 64, 67, 0.15);\n",
              "      fill: #174EA6;\n",
              "    }\n",
              "\n",
              "    [theme=dark] .colab-df-convert {\n",
              "      background-color: #3B4455;\n",
              "      fill: #D2E3FC;\n",
              "    }\n",
              "\n",
              "    [theme=dark] .colab-df-convert:hover {\n",
              "      background-color: #434B5C;\n",
              "      box-shadow: 0px 1px 3px 1px rgba(0, 0, 0, 0.15);\n",
              "      filter: drop-shadow(0px 1px 2px rgba(0, 0, 0, 0.3));\n",
              "      fill: #FFFFFF;\n",
              "    }\n",
              "  </style>\n",
              "\n",
              "      <script>\n",
              "        const buttonEl =\n",
              "          document.querySelector('#df-3feb206b-065a-439e-aca5-98c64ab5677a button.colab-df-convert');\n",
              "        buttonEl.style.display =\n",
              "          google.colab.kernel.accessAllowed ? 'block' : 'none';\n",
              "\n",
              "        async function convertToInteractive(key) {\n",
              "          const element = document.querySelector('#df-3feb206b-065a-439e-aca5-98c64ab5677a');\n",
              "          const dataTable =\n",
              "            await google.colab.kernel.invokeFunction('convertToInteractive',\n",
              "                                                     [key], {});\n",
              "          if (!dataTable) return;\n",
              "\n",
              "          const docLinkHtml = 'Like what you see? Visit the ' +\n",
              "            '<a target=\"_blank\" href=https://colab.research.google.com/notebooks/data_table.ipynb>data table notebook</a>'\n",
              "            + ' to learn more about interactive tables.';\n",
              "          element.innerHTML = '';\n",
              "          dataTable['output_type'] = 'display_data';\n",
              "          await google.colab.output.renderOutput(dataTable, element);\n",
              "          const docLink = document.createElement('div');\n",
              "          docLink.innerHTML = docLinkHtml;\n",
              "          element.appendChild(docLink);\n",
              "        }\n",
              "      </script>\n",
              "    </div>\n",
              "  </div>\n",
              "  "
            ],
            "text/plain": [
              "   node  spreading ability  degree centrality  ...  clustering  cores  class\n",
              "0    19           0.414141           0.000962  ...    0.500000      3    1.0\n",
              "1     1           0.418711           0.001443  ...    0.333333      3    1.0\n",
              "2  1751           0.402116           0.000722  ...    1.000000      3    1.0\n",
              "3  2408           0.389610           0.001203  ...    0.400000      3    0.0\n",
              "4  3078           0.409572           0.000722  ...    0.333333      2    1.0\n",
              "\n",
              "[5 rows x 9 columns]"
            ]
          },
          "metadata": {},
          "execution_count": 15
        }
      ]
    },
    {
      "cell_type": "code",
      "source": [
        "df1.corr()"
      ],
      "metadata": {
        "colab": {
          "base_uri": "https://localhost:8080/",
          "height": 332
        },
        "id": "mB1Mb2-O1056",
        "outputId": "45e82808-9140-4e77-a5aa-cd2e6bfb1a2b"
      },
      "execution_count": null,
      "outputs": [
        {
          "output_type": "execute_result",
          "data": {
            "text/html": [
              "\n",
              "  <div id=\"df-36a1710c-43a6-46ad-b403-28ad537aaa0a\">\n",
              "    <div class=\"colab-df-container\">\n",
              "      <div>\n",
              "<style scoped>\n",
              "    .dataframe tbody tr th:only-of-type {\n",
              "        vertical-align: middle;\n",
              "    }\n",
              "\n",
              "    .dataframe tbody tr th {\n",
              "        vertical-align: top;\n",
              "    }\n",
              "\n",
              "    .dataframe thead th {\n",
              "        text-align: right;\n",
              "    }\n",
              "</style>\n",
              "<table border=\"1\" class=\"dataframe\">\n",
              "  <thead>\n",
              "    <tr style=\"text-align: right;\">\n",
              "      <th></th>\n",
              "      <th>node</th>\n",
              "      <th>spreading ability</th>\n",
              "      <th>degree centrality</th>\n",
              "      <th>eigenvector centrality</th>\n",
              "      <th>closeness centrality</th>\n",
              "      <th>betweenness centrality</th>\n",
              "      <th>clustering</th>\n",
              "      <th>cores</th>\n",
              "      <th>class</th>\n",
              "    </tr>\n",
              "  </thead>\n",
              "  <tbody>\n",
              "    <tr>\n",
              "      <th>node</th>\n",
              "      <td>1.000000</td>\n",
              "      <td>-0.017445</td>\n",
              "      <td>-0.016867</td>\n",
              "      <td>-0.004357</td>\n",
              "      <td>0.001905</td>\n",
              "      <td>0.002424</td>\n",
              "      <td>-0.011277</td>\n",
              "      <td>-0.015907</td>\n",
              "      <td>-0.012737</td>\n",
              "    </tr>\n",
              "    <tr>\n",
              "      <th>spreading ability</th>\n",
              "      <td>-0.017445</td>\n",
              "      <td>1.000000</td>\n",
              "      <td>0.008903</td>\n",
              "      <td>0.010691</td>\n",
              "      <td>-0.005100</td>\n",
              "      <td>0.023741</td>\n",
              "      <td>-0.004008</td>\n",
              "      <td>0.001065</td>\n",
              "      <td>0.798408</td>\n",
              "    </tr>\n",
              "    <tr>\n",
              "      <th>degree centrality</th>\n",
              "      <td>-0.016867</td>\n",
              "      <td>0.008903</td>\n",
              "      <td>1.000000</td>\n",
              "      <td>0.600507</td>\n",
              "      <td>0.435221</td>\n",
              "      <td>0.488306</td>\n",
              "      <td>0.051331</td>\n",
              "      <td>0.899057</td>\n",
              "      <td>0.005637</td>\n",
              "    </tr>\n",
              "    <tr>\n",
              "      <th>eigenvector centrality</th>\n",
              "      <td>-0.004357</td>\n",
              "      <td>0.010691</td>\n",
              "      <td>0.600507</td>\n",
              "      <td>1.000000</td>\n",
              "      <td>0.275792</td>\n",
              "      <td>0.135088</td>\n",
              "      <td>0.055931</td>\n",
              "      <td>0.619236</td>\n",
              "      <td>0.014643</td>\n",
              "    </tr>\n",
              "    <tr>\n",
              "      <th>closeness centrality</th>\n",
              "      <td>0.001905</td>\n",
              "      <td>-0.005100</td>\n",
              "      <td>0.435221</td>\n",
              "      <td>0.275792</td>\n",
              "      <td>1.000000</td>\n",
              "      <td>0.473812</td>\n",
              "      <td>-0.117046</td>\n",
              "      <td>0.253214</td>\n",
              "      <td>0.012798</td>\n",
              "    </tr>\n",
              "    <tr>\n",
              "      <th>betweenness centrality</th>\n",
              "      <td>0.002424</td>\n",
              "      <td>0.023741</td>\n",
              "      <td>0.488306</td>\n",
              "      <td>0.135088</td>\n",
              "      <td>0.473812</td>\n",
              "      <td>1.000000</td>\n",
              "      <td>-0.284538</td>\n",
              "      <td>0.134877</td>\n",
              "      <td>0.011934</td>\n",
              "    </tr>\n",
              "    <tr>\n",
              "      <th>clustering</th>\n",
              "      <td>-0.011277</td>\n",
              "      <td>-0.004008</td>\n",
              "      <td>0.051331</td>\n",
              "      <td>0.055931</td>\n",
              "      <td>-0.117046</td>\n",
              "      <td>-0.284538</td>\n",
              "      <td>1.000000</td>\n",
              "      <td>0.247261</td>\n",
              "      <td>-0.013769</td>\n",
              "    </tr>\n",
              "    <tr>\n",
              "      <th>cores</th>\n",
              "      <td>-0.015907</td>\n",
              "      <td>0.001065</td>\n",
              "      <td>0.899057</td>\n",
              "      <td>0.619236</td>\n",
              "      <td>0.253214</td>\n",
              "      <td>0.134877</td>\n",
              "      <td>0.247261</td>\n",
              "      <td>1.000000</td>\n",
              "      <td>-0.001162</td>\n",
              "    </tr>\n",
              "    <tr>\n",
              "      <th>class</th>\n",
              "      <td>-0.012737</td>\n",
              "      <td>0.798408</td>\n",
              "      <td>0.005637</td>\n",
              "      <td>0.014643</td>\n",
              "      <td>0.012798</td>\n",
              "      <td>0.011934</td>\n",
              "      <td>-0.013769</td>\n",
              "      <td>-0.001162</td>\n",
              "      <td>1.000000</td>\n",
              "    </tr>\n",
              "  </tbody>\n",
              "</table>\n",
              "</div>\n",
              "      <button class=\"colab-df-convert\" onclick=\"convertToInteractive('df-36a1710c-43a6-46ad-b403-28ad537aaa0a')\"\n",
              "              title=\"Convert this dataframe to an interactive table.\"\n",
              "              style=\"display:none;\">\n",
              "        \n",
              "  <svg xmlns=\"http://www.w3.org/2000/svg\" height=\"24px\"viewBox=\"0 0 24 24\"\n",
              "       width=\"24px\">\n",
              "    <path d=\"M0 0h24v24H0V0z\" fill=\"none\"/>\n",
              "    <path d=\"M18.56 5.44l.94 2.06.94-2.06 2.06-.94-2.06-.94-.94-2.06-.94 2.06-2.06.94zm-11 1L8.5 8.5l.94-2.06 2.06-.94-2.06-.94L8.5 2.5l-.94 2.06-2.06.94zm10 10l.94 2.06.94-2.06 2.06-.94-2.06-.94-.94-2.06-.94 2.06-2.06.94z\"/><path d=\"M17.41 7.96l-1.37-1.37c-.4-.4-.92-.59-1.43-.59-.52 0-1.04.2-1.43.59L10.3 9.45l-7.72 7.72c-.78.78-.78 2.05 0 2.83L4 21.41c.39.39.9.59 1.41.59.51 0 1.02-.2 1.41-.59l7.78-7.78 2.81-2.81c.8-.78.8-2.07 0-2.86zM5.41 20L4 18.59l7.72-7.72 1.47 1.35L5.41 20z\"/>\n",
              "  </svg>\n",
              "      </button>\n",
              "      \n",
              "  <style>\n",
              "    .colab-df-container {\n",
              "      display:flex;\n",
              "      flex-wrap:wrap;\n",
              "      gap: 12px;\n",
              "    }\n",
              "\n",
              "    .colab-df-convert {\n",
              "      background-color: #E8F0FE;\n",
              "      border: none;\n",
              "      border-radius: 50%;\n",
              "      cursor: pointer;\n",
              "      display: none;\n",
              "      fill: #1967D2;\n",
              "      height: 32px;\n",
              "      padding: 0 0 0 0;\n",
              "      width: 32px;\n",
              "    }\n",
              "\n",
              "    .colab-df-convert:hover {\n",
              "      background-color: #E2EBFA;\n",
              "      box-shadow: 0px 1px 2px rgba(60, 64, 67, 0.3), 0px 1px 3px 1px rgba(60, 64, 67, 0.15);\n",
              "      fill: #174EA6;\n",
              "    }\n",
              "\n",
              "    [theme=dark] .colab-df-convert {\n",
              "      background-color: #3B4455;\n",
              "      fill: #D2E3FC;\n",
              "    }\n",
              "\n",
              "    [theme=dark] .colab-df-convert:hover {\n",
              "      background-color: #434B5C;\n",
              "      box-shadow: 0px 1px 3px 1px rgba(0, 0, 0, 0.15);\n",
              "      filter: drop-shadow(0px 1px 2px rgba(0, 0, 0, 0.3));\n",
              "      fill: #FFFFFF;\n",
              "    }\n",
              "  </style>\n",
              "\n",
              "      <script>\n",
              "        const buttonEl =\n",
              "          document.querySelector('#df-36a1710c-43a6-46ad-b403-28ad537aaa0a button.colab-df-convert');\n",
              "        buttonEl.style.display =\n",
              "          google.colab.kernel.accessAllowed ? 'block' : 'none';\n",
              "\n",
              "        async function convertToInteractive(key) {\n",
              "          const element = document.querySelector('#df-36a1710c-43a6-46ad-b403-28ad537aaa0a');\n",
              "          const dataTable =\n",
              "            await google.colab.kernel.invokeFunction('convertToInteractive',\n",
              "                                                     [key], {});\n",
              "          if (!dataTable) return;\n",
              "\n",
              "          const docLinkHtml = 'Like what you see? Visit the ' +\n",
              "            '<a target=\"_blank\" href=https://colab.research.google.com/notebooks/data_table.ipynb>data table notebook</a>'\n",
              "            + ' to learn more about interactive tables.';\n",
              "          element.innerHTML = '';\n",
              "          dataTable['output_type'] = 'display_data';\n",
              "          await google.colab.output.renderOutput(dataTable, element);\n",
              "          const docLink = document.createElement('div');\n",
              "          docLink.innerHTML = docLinkHtml;\n",
              "          element.appendChild(docLink);\n",
              "        }\n",
              "      </script>\n",
              "    </div>\n",
              "  </div>\n",
              "  "
            ],
            "text/plain": [
              "                            node  spreading ability  ...     cores     class\n",
              "node                    1.000000          -0.017445  ... -0.015907 -0.012737\n",
              "spreading ability      -0.017445           1.000000  ...  0.001065  0.798408\n",
              "degree centrality      -0.016867           0.008903  ...  0.899057  0.005637\n",
              "eigenvector centrality -0.004357           0.010691  ...  0.619236  0.014643\n",
              "closeness centrality    0.001905          -0.005100  ...  0.253214  0.012798\n",
              "betweenness centrality  0.002424           0.023741  ...  0.134877  0.011934\n",
              "clustering             -0.011277          -0.004008  ...  0.247261 -0.013769\n",
              "cores                  -0.015907           0.001065  ...  1.000000 -0.001162\n",
              "class                  -0.012737           0.798408  ... -0.001162  1.000000\n",
              "\n",
              "[9 rows x 9 columns]"
            ]
          },
          "metadata": {},
          "execution_count": 16
        }
      ]
    },
    {
      "cell_type": "markdown",
      "source": [
        "таргет хорошо коррелирует лишь с spreading ability, с остальными примерно на одном уровне и очень слабо"
      ],
      "metadata": {
        "id": "UlFRy6m78DdC"
      }
    },
    {
      "cell_type": "markdown",
      "source": [
        "### 1.3. Разделите выборку на обучающую и тестовую, постройте модели классификации (бинарной), выведите метрики качества, подберите оптимальные гиперпараметры"
      ],
      "metadata": {
        "id": "gPrEEF3K2VUD"
      }
    },
    {
      "cell_type": "code",
      "source": [
        "from sklearn.model_selection import train_test_split\n",
        "from sklearn.linear_model import LogisticRegression\n",
        "from sklearn import tree\n",
        "from sklearn import metrics\n",
        "from sklearn.linear_model import LinearRegression\n",
        "from sklearn.model_selection import cross_validate\n",
        "from sklearn.neighbors import KNeighborsClassifier"
      ],
      "metadata": {
        "id": "RSCZg_sGrCWz"
      },
      "execution_count": null,
      "outputs": []
    },
    {
      "cell_type": "code",
      "source": [
        "X=df1.drop(['class','node'], axis=1)\n",
        "y=df1['class']\n",
        "\n",
        "X_train, X_test, y_train, y_test = train_test_split(X, y, test_size=0.33, random_state=45)\n",
        "\n",
        "lr1 = LogisticRegression()\n",
        "lr1.fit(X_train, y_train)\n",
        "print('accuracy score:', lr1.score(X_test, y_test))\n",
        "print('F1 score:', metrics.f1_score(y_test, lr1.predict(X_test)))"
      ],
      "metadata": {
        "colab": {
          "base_uri": "https://localhost:8080/"
        },
        "id": "NwyH6Z3x109T",
        "outputId": "22c9f619-db31-481f-ca2e-47a929fc169f"
      },
      "execution_count": null,
      "outputs": [
        {
          "output_type": "stream",
          "name": "stdout",
          "text": [
            "accuracy score: 0.6147123088128187\n",
            "F1 score: 0.7536096879366557\n"
          ]
        }
      ]
    },
    {
      "cell_type": "code",
      "source": [
        "classifier = KNeighborsClassifier(n_neighbors=5)\n",
        "classifier.fit(X_train, y_train)\n",
        "print('accuracy score:', classifier.score(X_test, y_test))\n",
        "print('F1 score:', metrics.f1_score(y_test, classifier.predict(X_test)))"
      ],
      "metadata": {
        "colab": {
          "base_uri": "https://localhost:8080/"
        },
        "id": "CRLCnaEGlbYj",
        "outputId": "1e8963f6-5996-4139-e27b-e7a078a682fc"
      },
      "execution_count": null,
      "outputs": [
        {
          "output_type": "stream",
          "name": "stdout",
          "text": [
            "accuracy score: 0.8783685360524399\n",
            "F1 score: 0.8972307692307693\n"
          ]
        }
      ]
    },
    {
      "cell_type": "code",
      "source": [
        "d_tree = tree.DecisionTreeClassifier()\n",
        "d_tree.fit(X_train, y_train)\n",
        "print('accuracy score:', d_tree.score(X_test, y_test))\n",
        "print('F1 score:', metrics.f1_score(y_test, d_tree.predict(X_test)))"
      ],
      "metadata": {
        "id": "23d2-l7XO5ey",
        "colab": {
          "base_uri": "https://localhost:8080/"
        },
        "outputId": "49ed6602-013e-426f-a5e1-b3b24ad431d3"
      },
      "execution_count": null,
      "outputs": [
        {
          "output_type": "stream",
          "name": "stdout",
          "text": [
            "accuracy score: 1.0\n",
            "F1 score: 1.0\n"
          ]
        }
      ]
    },
    {
      "cell_type": "code",
      "source": [
        "#отнормируем core\n",
        "from sklearn import preprocessing\n",
        "normalized_arr_core = preprocessing.normalize([core_arr])"
      ],
      "metadata": {
        "id": "ORgpV0ZnBTxk"
      },
      "execution_count": null,
      "outputs": []
    },
    {
      "cell_type": "code",
      "source": [
        "df1_norm = df1.copy()\n",
        "df1_norm = df1_norm.drop('cores', axis=1)\n",
        "df1_norm['cores'] = list(normalized_arr_core[0])"
      ],
      "metadata": {
        "id": "nIJy9fETDq59"
      },
      "execution_count": null,
      "outputs": []
    },
    {
      "cell_type": "code",
      "source": [
        "X_=df1_norm.drop(['class','node'], axis=1)\n",
        "y_=df1_norm['class']\n",
        "\n",
        "X_train_, X_test_, y_train_, y_test_ = train_test_split(X_, y_, test_size=0.33, random_state=45)\n",
        "\n",
        "lr1_ = LogisticRegression()\n",
        "lr1_.fit(X_train_, y_train_)\n",
        "print('accuracy score:', lr1_.score(X_test_, y_test_))\n",
        "print('F1 score:', metrics.f1_score(y_test_, lr1_.predict(X_test_)))"
      ],
      "metadata": {
        "colab": {
          "base_uri": "https://localhost:8080/"
        },
        "id": "U1a-oTGFEzdL",
        "outputId": "10b59ddb-c2a4-4d74-e4ea-1267ea7c78c7"
      },
      "execution_count": null,
      "outputs": [
        {
          "output_type": "stream",
          "name": "stdout",
          "text": [
            "accuracy score: 0.6139839766933721\n",
            "F1 score: 0.7532588454376163\n"
          ]
        }
      ]
    },
    {
      "cell_type": "code",
      "source": [
        "classifier_ = KNeighborsClassifier(n_neighbors=5)\n",
        "classifier_.fit(X_train_, y_train_)\n",
        "print('accuracy score:', classifier_.score(X_test_, y_test_))\n",
        "print('F1 score:', metrics.f1_score(y_test_, classifier_.predict(X_test_)))"
      ],
      "metadata": {
        "colab": {
          "base_uri": "https://localhost:8080/"
        },
        "id": "JzAyPf2FEznl",
        "outputId": "c025afaa-d7e9-4a67-932a-542af759d556"
      },
      "execution_count": null,
      "outputs": [
        {
          "output_type": "stream",
          "name": "stdout",
          "text": [
            "accuracy score: 0.9395484340859432\n",
            "F1 score: 0.9484792054624457\n"
          ]
        }
      ]
    },
    {
      "cell_type": "code",
      "source": [
        "d_tree_ = tree.DecisionTreeClassifier()\n",
        "d_tree_.fit(X_train_, y_train_)\n",
        "print('accuracy score:', d_tree_.score(X_test_, y_test_))\n",
        "print('F1 score:', metrics.f1_score(y_test_, d_tree_.predict(X_test_)))"
      ],
      "metadata": {
        "colab": {
          "base_uri": "https://localhost:8080/"
        },
        "id": "QANiPFiPEz0N",
        "outputId": "807f64ab-29eb-4e8c-f4da-1fcb78e9637b"
      },
      "execution_count": null,
      "outputs": [
        {
          "output_type": "stream",
          "name": "stdout",
          "text": [
            "accuracy score: 1.0\n",
            "F1 score: 1.0\n"
          ]
        }
      ]
    },
    {
      "cell_type": "code",
      "source": [
        "print('Подведём итоги:\\ndf_train')\n",
        "print('LogisticRegression: accuracy score:', lr1.score(X_test, y_test),'F1 score:', metrics.f1_score(y_test, lr1.predict(X_test)))\n",
        "print('KNeighborsClassifier: accuracy score:', classifier.score(X_test, y_test),'F1 score:', metrics.f1_score(y_test, classifier.predict(X_test)))\n",
        "print('DecisionTreeClassifier: accuracy score:', d_tree.score(X_test, y_test),'F1 score:', metrics.f1_score(y_test, d_tree.predict(X_test)))\n",
        "print('\\nна df_train с отнормированным k-core')\n",
        "print('LogisticRegression: accuracy score:', lr1_.score(X_test_, y_test_),'F1 score:', metrics.f1_score(y_test_, lr1_.predict(X_test_)))\n",
        "print('KNeighborsClassifier: accuracy score:', classifier_.score(X_test_, y_test_),'F1 score:', metrics.f1_score(y_test_, classifier_.predict(X_test_)))\n",
        "print('DecisionTreeClassifier: accuracy score:', d_tree_.score(X_test_, y_test_),'F1 score:', metrics.f1_score(y_test_, d_tree_.predict(X_test_)))"
      ],
      "metadata": {
        "id": "XFCUOkDdJLje",
        "colab": {
          "base_uri": "https://localhost:8080/"
        },
        "outputId": "94ef2916-826b-4b49-ff75-f17359d35107"
      },
      "execution_count": null,
      "outputs": [
        {
          "output_type": "stream",
          "name": "stdout",
          "text": [
            "Подведём итоги:\n",
            "df_train\n",
            "LogisticRegression: accuracy score: 0.6147123088128187 F1 score: 0.7536096879366557\n",
            "KNeighborsClassifier: accuracy score: 0.8783685360524399 F1 score: 0.8972307692307693\n",
            "DecisionTreeClassifier: accuracy score: 1.0 F1 score: 1.0\n",
            "\n",
            "на df_train с отнормированным k-core\n",
            "LogisticRegression: accuracy score: 0.6139839766933721 F1 score: 0.7532588454376163\n",
            "KNeighborsClassifier: accuracy score: 0.9395484340859432 F1 score: 0.9484792054624457\n",
            "DecisionTreeClassifier: accuracy score: 1.0 F1 score: 1.0\n"
          ]
        }
      ]
    },
    {
      "cell_type": "code",
      "source": [
        "from sklearn.model_selection import GridSearchCV"
      ],
      "metadata": {
        "id": "UObQ4RCjoBen"
      },
      "execution_count": null,
      "outputs": []
    },
    {
      "cell_type": "code",
      "source": [
        "grid={\"n_neighbors\":[5,10,15], 'p':[1,2], 'leaf_size':[20,30,40],'algorithm':['auto', 'ball_tree', 'kd_tree', 'brute']}\n",
        "classifier_grid=KNeighborsClassifier()\n",
        "classifier_cv=GridSearchCV(classifier_grid,grid,cv=10)\n",
        "classifier_cv.fit(X_train,y_train)\n",
        "\n",
        "print(\"tuned hpyerparameters for KNeighborsClassifier :(best parameters) \",classifier_cv.best_params_)\n",
        "print(\"accuracy :\",classifier_cv.best_score_)"
      ],
      "metadata": {
        "colab": {
          "base_uri": "https://localhost:8080/"
        },
        "id": "RtXVA-DRsH1U",
        "outputId": "b7172160-83f8-484d-e479-988e5a8689f9"
      },
      "execution_count": null,
      "outputs": [
        {
          "output_type": "stream",
          "name": "stdout",
          "text": [
            "tuned hpyerparameters for KNeighborsClassifier :(best parameters)  {'algorithm': 'auto', 'leaf_size': 20, 'n_neighbors': 5, 'p': 1}\n",
            "accuracy : 0.8894058946391274\n"
          ]
        }
      ]
    },
    {
      "cell_type": "code",
      "source": [
        "#на норированном df\n",
        "grid={\"n_neighbors\":[5,10,15], 'p':[1,2], 'leaf_size':[20,30,40],'algorithm':['auto', 'ball_tree', 'kd_tree', 'brute']}\n",
        "classifier_grid_norm=KNeighborsClassifier()\n",
        "classifier_cv_norm=GridSearchCV(classifier_grid_norm,grid,cv=10)\n",
        "classifier_cv_norm.fit(X_train_,y_train_)\n",
        "\n",
        "print(\"tuned hpyerparameters for KNeighborsClassifier :(best parameters) \",classifier_cv_norm.best_params_)\n",
        "print(\"accuracy :\",classifier_cv_norm.best_score_)"
      ],
      "metadata": {
        "colab": {
          "base_uri": "https://localhost:8080/"
        },
        "id": "eBgEXneXHjzv",
        "outputId": "a338052d-31fc-43a8-d00c-3f0d2246a8c2"
      },
      "execution_count": null,
      "outputs": [
        {
          "output_type": "stream",
          "name": "stdout",
          "text": [
            "tuned hpyerparameters for KNeighborsClassifier :(best parameters)  {'algorithm': 'auto', 'leaf_size': 20, 'n_neighbors': 15, 'p': 1}\n",
            "accuracy : 0.9414777855135247\n"
          ]
        }
      ]
    },
    {
      "cell_type": "markdown",
      "source": [
        "### 1.4. Проанализируйте важность признаков"
      ],
      "metadata": {
        "id": "1RzaiWIJ-ZhZ"
      }
    },
    {
      "cell_type": "code",
      "source": [
        "feature_importance = lr1.coef_[0]\n",
        "#feature_importance = 100.0 * (feature_importance / feature_importance.max())\n",
        "rez = list(zip(list(X_train.columns),feature_importance))\n",
        "for i in range(len(rez)):\n",
        "\tprint('Score', i ,rez[i][0],':', np.round(rez[i][1],3))  #list(X_train.columns)\n",
        "bins = [x for x in range(len(feature_importance))]\n",
        "plt.bar(bins, feature_importance)\n",
        "\n",
        "bin_centers = np.diff(bins)*0.5 + bins[:-1]\n",
        "for fi, x in zip(feature_importance, bins):\n",
        "  height = round(fi, 3)\n",
        "  plt.annotate(\"{}\".format(height),\n",
        "               xy = (x, height),             # top left corner of the histogram bar\n",
        "               xytext = (0,0.2),             # offsetting label position above its bar\n",
        "               textcoords = \"offset points\", # Offset (in points) from the *xy* value\n",
        "               ha = 'center', va = 'bottom'\n",
        "               )\n",
        "\n",
        "plt.title('Важность признаков для LogisticRegression')\n",
        "plt.ylim(min(feature_importance) - 1, max(feature_importance) + 1)\n",
        "plt.show()"
      ],
      "metadata": {
        "colab": {
          "base_uri": "https://localhost:8080/",
          "height": 402
        },
        "id": "7vb2KlLyvDMz",
        "outputId": "9fe4166c-651b-4ca0-9457-2ac72af603cf"
      },
      "execution_count": null,
      "outputs": [
        {
          "output_type": "stream",
          "name": "stdout",
          "text": [
            "Score 0 spreading ability : 12.836\n",
            "Score 1 degree centrality : 0.022\n",
            "Score 2 eigenvector centrality : -0.076\n",
            "Score 3 closeness centrality : 1.066\n",
            "Score 4 betweenness centrality : 0.098\n",
            "Score 5 clustering : -0.066\n",
            "Score 6 cores : 0.001\n"
          ]
        },
        {
          "output_type": "display_data",
          "data": {
            "image/png": "[encoded data removed]",
            "text/plain": [
              "<Figure size 432x288 with 1 Axes>"
            ]
          },
          "metadata": {
            "needs_background": "light"
          }
        }
      ]
    },
    {
      "cell_type": "code",
      "source": [
        "feature_importance = d_tree.feature_importances_\n",
        "#feature_importance = 100.0 * (feature_importance / feature_importance.max())\n",
        "rez = list(zip(list(X_train.columns),feature_importance))\n",
        "for i in range(len(rez)):\n",
        "\tprint('Score', i ,rez[i][0],':', np.round(rez[i][1],3))  #list(X_train.columns)\n",
        "bins = [x for x in range(len(feature_importance))]\n",
        "plt.bar(bins, feature_importance)\n",
        "\n",
        "bin_centers = np.diff(bins)*0.5 + bins[:-1]\n",
        "for fi, x in zip(feature_importance, bins):\n",
        "  height = round(fi, 3)\n",
        "  plt.annotate(\"{}\".format(height),\n",
        "               xy = (x, height),             # top left corner of the histogram bar\n",
        "               xytext = (0,0.2),             # offsetting label position above its bar\n",
        "               textcoords = \"offset points\", # Offset (in points) from the *xy* value\n",
        "               ha = 'center', va = 'bottom'\n",
        "               )\n",
        "\n",
        "plt.title('Важность признаков для DecisionTreeClassifier')\n",
        "plt.ylim(min(feature_importance)-0.1, max(feature_importance) + 0.3)\n",
        "plt.show()"
      ],
      "metadata": {
        "colab": {
          "base_uri": "https://localhost:8080/",
          "height": 402
        },
        "id": "_WrhwzxZP7Se",
        "outputId": "4697cb6b-e740-471b-8947-04e55300bf9f"
      },
      "execution_count": null,
      "outputs": [
        {
          "output_type": "stream",
          "name": "stdout",
          "text": [
            "Score 0 spreading ability : 1.0\n",
            "Score 1 degree centrality : 0.0\n",
            "Score 2 eigenvector centrality : 0.0\n",
            "Score 3 closeness centrality : 0.0\n",
            "Score 4 betweenness centrality : 0.0\n",
            "Score 5 clustering : 0.0\n",
            "Score 6 cores : 0.0\n"
          ]
        },
        {
          "output_type": "display_data",
          "data": {
            "image/png": "[encoded data removed]",
            "text/plain": [
              "<Figure size 432x288 with 1 Axes>"
            ]
          },
          "metadata": {
            "needs_background": "light"
          }
        }
      ]
    },
    {
      "cell_type": "markdown",
      "metadata": {
        "id": "3hnF9Y5M-DtB"
      },
      "source": [
        "## 2. Предсказание связей (10 баллов)\n",
        "\n",
        "1. Разбейте сеть на обучающую и тестовую выборку, тестовая выборка должна содержать как связи, которые нужно предсказать, так и отсутствующие (выберите их случайным образом, чтобы тестовая выборка была сбалансирована). \n",
        "\n",
        "2. Сравните Roc-кривые для различных структурных характеристик ребер в сети. Какая лучше справляется с задачей предсказания связей по AUC ROC? \n",
        "\n",
        "3. Постройте модель классификации, используя структурные признаки, улучшилось ли качество предсказания?\n",
        "\n",
        "4. Постройте модель предскзания на основе вложения (используйте вложение сети с помощью Лапласиана или Node2vec, на выбор) Сравните качество предсказания для разных размерностей используемого пространства $d$. \n",
        "\n"
      ]
    },
    {
      "cell_type": "code",
      "source": [
        "!wget https://snap.stanford.edu/data/email-Eu-core.txt.gz\n",
        "!gzip -dk email-Eu-core.txt.gz"
      ],
      "metadata": {
        "colab": {
          "base_uri": "https://localhost:8080/"
        },
        "id": "KEo47npu3GxS",
        "outputId": "46231697-eb64-44ff-bfab-32d1289e7b76"
      },
      "execution_count": null,
      "outputs": [
        {
          "output_type": "stream",
          "name": "stdout",
          "text": [
            "--2021-12-17 18:07:20--  https://snap.stanford.edu/data/email-Eu-core.txt.gz\n",
            "Resolving snap.stanford.edu (snap.stanford.edu)... 171.64.75.80\n",
            "Connecting to snap.stanford.edu (snap.stanford.edu)|171.64.75.80|:443... connected.\n",
            "HTTP request sent, awaiting response... 200 OK\n",
            "Length: 79754 (78K) [application/x-gzip]\n",
            "Saving to: ‘email-Eu-core.txt.gz.1’\n",
            "\n",
            "email-Eu-core.txt.g 100%[===================>]  77.88K   363KB/s    in 0.2s    \n",
            "\n",
            "2021-12-17 18:07:21 (363 KB/s) - ‘email-Eu-core.txt.gz.1’ saved [79754/79754]\n",
            "\n",
            "gzip: email-Eu-core.txt already exists; do you wish to overwrite (y or n)? n\n",
            "\tnot overwritten\n"
          ]
        }
      ]
    },
    {
      "cell_type": "markdown",
      "source": [
        "### 2.1. Разбейте сеть на обучающую и тестовую выборку, тестовая выборка должна содержать как связи, которые нужно предсказать, так и отсутствующие (выберите их случайным образом, чтобы тестовая выборка была сбалансирована)."
      ],
      "metadata": {
        "id": "dcR9KmJk8yrL"
      }
    },
    {
      "cell_type": "code",
      "source": [
        "G2=nx.read_adjlist('email-Eu-core.txt')\n",
        "print(G2.number_of_nodes(),G2.number_of_edges())"
      ],
      "metadata": {
        "colab": {
          "base_uri": "https://localhost:8080/"
        },
        "id": "cYcNoTSJFiRO",
        "outputId": "1c9b6611-957a-43eb-95b7-88884a437517"
      },
      "execution_count": null,
      "outputs": [
        {
          "output_type": "stream",
          "name": "stdout",
          "text": [
            "1005 16706\n"
          ]
        }
      ]
    },
    {
      "cell_type": "code",
      "source": [
        "#на тест берем 25% ребер\n",
        "edge_subset = random.sample(G2.edges(), int(0.25 * G2.number_of_edges()))\n",
        "\n",
        "G2_train = G2.copy()\n",
        "G2_train.remove_edges_from(edge_subset)\n",
        "print('G2_train',G2_train.number_of_nodes(),G2_train.number_of_edges())"
      ],
      "metadata": {
        "colab": {
          "base_uri": "https://localhost:8080/"
        },
        "id": "m1T_GhyMHdbD",
        "outputId": "05c32391-de80-4d02-f6a1-ef1db2654d81"
      },
      "execution_count": null,
      "outputs": [
        {
          "output_type": "stream",
          "name": "stdout",
          "text": [
            "G2_train 1005 12530\n"
          ]
        }
      ]
    },
    {
      "cell_type": "code",
      "source": [
        "arr_nodes_of_G2 = [i for i in G2.nodes()]\n",
        "arr_edges_of_G2 = [i for i in G2.edges()]\n",
        "\n",
        "G2_test = nx.Graph()\n",
        "G2_test.add_nodes_from(arr_nodes_of_G2)\n",
        "G2_test.add_edges_from(edge_subset)\n",
        "print('G2_test',G2_test.number_of_nodes(),G2_test.number_of_edges())"
      ],
      "metadata": {
        "colab": {
          "base_uri": "https://localhost:8080/"
        },
        "id": "76RF3jLcFii9",
        "outputId": "092b723d-eb31-48d1-cbe7-e75aa8ba3771"
      },
      "execution_count": null,
      "outputs": [
        {
          "output_type": "stream",
          "name": "stdout",
          "text": [
            "G2_test 1005 4176\n"
          ]
        }
      ]
    },
    {
      "cell_type": "code",
      "source": [
        "#создадим несуществующие ребра в test, рандомно выбирая\n",
        "node1 = random.choices(arr_nodes_of_G2, k = int(0.7*G2.number_of_nodes()))\n",
        "node2 = random.choices(arr_nodes_of_G2, k = int(0.7*G2.number_of_nodes()))\n",
        "edges_for_G2_test = list(zip(node1,node2))\n",
        "arr_edges_dop_for_G2_test = []\n",
        "for i in range(len(edges_for_G2_test)):\n",
        "    if ((edges_for_G2_test[i][0],edges_for_G2_test[i][1]) not in arr_edges_of_G2 \n",
        "        and (edges_for_G2_test[i][1],edges_for_G2_test[i][0]) not in arr_edges_of_G2 \n",
        "        and edges_for_G2_test[i][1]!=edges_for_G2_test[i][0]):\n",
        "        arr_edges_dop_for_G2_test.append(edges_for_G2_test[i])\n",
        "\n",
        "test_edges = arr_edges_dop_for_G2_test+edge_subset #########\n",
        "#y_test = [1]*len(arr_edges_dop_for_G2_test)+[0]*len(edge_subset)\n",
        "print('G2_test with dop edges',G2_test.number_of_nodes(),len(test_edges))"
      ],
      "metadata": {
        "colab": {
          "base_uri": "https://localhost:8080/"
        },
        "id": "xOidDf2UF9ao",
        "outputId": "cbf48397-b6bd-4022-bada-64a5a4fc3fbf"
      },
      "execution_count": null,
      "outputs": [
        {
          "output_type": "stream",
          "name": "stdout",
          "text": [
            "G2_test with dop edges 1005 4855\n"
          ]
        }
      ]
    },
    {
      "cell_type": "code",
      "source": [
        "#создадим несуществующие ребра в train, рандомно выбирая\n",
        "#иначе таргет в 2.3 и 2.4 будет забит только единицами и резы будут средним по y_test\n",
        "node1 = random.choices(arr_nodes_of_G2, k = int(0.7*G2.number_of_nodes()))\n",
        "node2 = random.choices(arr_nodes_of_G2, k = int(0.7*G2.number_of_nodes()))\n",
        "edges_for_G2_train = list(zip(node1,node2))\n",
        "arr_edges_dop_for_G2_train = []\n",
        "for i in range(len(edges_for_G2_train)):\n",
        "    if ((edges_for_G2_train[i][0],edges_for_G2_train[i][1]) not in arr_edges_of_G2 \n",
        "        and (edges_for_G2_train[i][1],edges_for_G2_train[i][0]) not in arr_edges_of_G2 \n",
        "        and edges_for_G2_train[i][1]!=edges_for_G2_train[i][0] \n",
        "        and (edges_for_G2_train[i][0],edges_for_G2_train[i][1]) not in test_edges \n",
        "        and (edges_for_G2_train[i][1],edges_for_G2_train[i][0]) not in test_edges):\n",
        "        arr_edges_dop_for_G2_train.append(edges_for_G2_test[i])\n",
        "\n",
        "edges_G2_train = [i for i in G2_train.edges()]\n",
        "train_edges = arr_edges_dop_for_G2_train+edges_G2_train #########\n",
        "#y_train = [1]*len(edges_G2_train)+[0]*len(arr_edges_dop_for_G2_train)\n",
        "print('G2_train with dop edges',G2_train.number_of_nodes(),len(train_edges))"
      ],
      "metadata": {
        "colab": {
          "base_uri": "https://localhost:8080/"
        },
        "id": "WiKXsnPvHHh5",
        "outputId": "23ddfd88-a378-431d-c556-81fc8185469e"
      },
      "execution_count": null,
      "outputs": [
        {
          "output_type": "stream",
          "name": "stdout",
          "text": [
            "G2_train with dop edges 1005 13208\n"
          ]
        }
      ]
    },
    {
      "cell_type": "markdown",
      "source": [
        "### 2.2. Сравните Roc-кривые для различных структурных характеристик ребер в сети. Какая лучше справляется с задачей предсказания связей по AUC ROC?\n"
      ],
      "metadata": {
        "id": "ySA-8xwl_cPq"
      }
    },
    {
      "cell_type": "code",
      "source": [
        "from sklearn.metrics import roc_curve, auc"
      ],
      "metadata": {
        "id": "vZWEEL0X32Fx"
      },
      "execution_count": null,
      "outputs": []
    },
    {
      "cell_type": "code",
      "source": [
        "prediction_jaccard = list(nx.jaccard_coefficient(G2_train))\n",
        "scores_jaccard, y_jaccard = list(zip(*[(s, (u,v) in G2_test.edges()) for (u,v,s) in prediction_jaccard]))\n",
        "fpr_j, tpr_j, thresholds = roc_curve(y_jaccard, scores_jaccard)\n",
        "\n",
        "prediction_adamic_adar = list(nx.adamic_adar_index(G2_train))\n",
        "scores_ad, y_ad = zip(*[(s, (u,v) in G2_test.edges()) for (u,v,s) in prediction_adamic_adar])\n",
        "fpr_ad, tpr_ad, thresholds_ad = roc_curve(y_ad, scores_ad)\n",
        "\n",
        "prediction_pr = list(nx.preferential_attachment(G2_train))\n",
        "scores_pr, y_pr = zip(*[(s, (u,v) in G2_test.edges()) for (u,v,s) in prediction_pr])\n",
        "fpr_pr, tpr_pr, thresholds_pr = roc_curve(y_pr, scores_pr)"
      ],
      "metadata": {
        "id": "TySAgerNB297"
      },
      "execution_count": null,
      "outputs": []
    },
    {
      "cell_type": "code",
      "source": [
        "fig, ax = plt.subplots(nrows=1,ncols=3,figsize=(20, 5))\n",
        "  \n",
        "ax[0].plot(fpr_j,tpr_j,'--')\n",
        "ax[0].plot([0, 1], [0, 1], color=\"navy\",  linestyle=\"--\")\n",
        "ax[0].set_title(('Jaccard coefficient\\n AUC: '+ str(round(auc(fpr_j,tpr_j),4))), fontsize=16)\n",
        "ax[0].set_xlabel(\"False Positive Rate\", fontsize=14)\n",
        "ax[0].set_ylabel(\"True Positive Rate\", fontsize=14)\n",
        "\n",
        "ax[1].plot(fpr_ad,tpr_ad,'--')\n",
        "ax[1].plot([0, 1], [0, 1], color=\"navy\",  linestyle=\"--\")\n",
        "ax[1].set_title(('Adamic Adar index\\n AUC: '+ str(round(auc(fpr_ad,tpr_ad),4))), fontsize=16)\n",
        "ax[1].set_xlabel(\"False Positive Rate\", fontsize=14)\n",
        "ax[1].set_ylabel(\"True Positive Rate\", fontsize=14)\n",
        "\n",
        "ax[2].plot(fpr_pr,tpr_pr,'--')\n",
        "ax[2].plot([0, 1], [0, 1], color=\"navy\",  linestyle=\"--\")\n",
        "ax[2].set_title(('Preferential attachment\\n AUC: '+ str(round(auc(fpr_pr,tpr_pr),4))), fontsize=16)\n",
        "ax[2].set_xlabel(\"False Positive Rate\", fontsize=14)\n",
        "ax[2].set_ylabel(\"True Positive Rate\", fontsize=14)\n",
        "\n",
        "plt.show()"
      ],
      "metadata": {
        "colab": {
          "base_uri": "https://localhost:8080/",
          "height": 373
        },
        "id": "4JcgNjTtCQmP",
        "outputId": "cee9f5fa-3e8c-4c78-ab80-53a24e1e5e2e"
      },
      "execution_count": null,
      "outputs": [
        {
          "output_type": "display_data",
          "data": {
            "image/png": "[encoded data removed]",
            "text/plain": [
              "<Figure size 1440x360 with 3 Axes>"
            ]
          },
          "metadata": {
            "needs_background": "light"
          }
        }
      ]
    },
    {
      "cell_type": "markdown",
      "source": [
        "лучше всего справляется Adamic Adar index"
      ],
      "metadata": {
        "id": "7odI5Il5-ln_"
      }
    },
    {
      "cell_type": "markdown",
      "source": [
        "### 2.3. Постройте модель классификации, используя структурные признаки, улучшилось ли качество предсказания?"
      ],
      "metadata": {
        "id": "Vn_XsSP6MFef"
      }
    },
    {
      "cell_type": "code",
      "source": [
        "#train df\n",
        "prediction_jaccard2 = list(nx.jaccard_coefficient(G2_train,train_edges))\n",
        "scores_jaccard2, y_jaccard2 = list(zip(*[(s, (u,v) in G2_train.edges()) for (u,v,s) in prediction_jaccard2]))\n",
        "\n",
        "prediction_pr2 = list(nx.preferential_attachment(G2_train,train_edges))\n",
        "scores_pr2, y_pr2 = zip(*[(s, (u,v) in G2_train.edges()) for (u,v,s) in prediction_pr2])"
      ],
      "metadata": {
        "id": "-I2I0r7ZMEzk"
      },
      "execution_count": null,
      "outputs": []
    },
    {
      "cell_type": "code",
      "source": [
        "#test df\n",
        "prediction_jaccard3 = list(nx.jaccard_coefficient(G2_train,test_edges))\n",
        "scores_jaccard3, y_jaccard3 = list(zip(*[(s, (u,v) in G2_test.edges()) for (u,v,s) in prediction_jaccard3]))\n",
        "\n",
        "prediction_pr3 = list(nx.preferential_attachment(G2_train,test_edges))\n",
        "scores_pr3, y_pr3 = zip(*[(s, (u,v) in G2_test.edges()) for (u,v,s) in prediction_pr3])"
      ],
      "metadata": {
        "id": "oIES344nME3Z"
      },
      "execution_count": null,
      "outputs": []
    },
    {
      "cell_type": "code",
      "source": [
        "df_3_train = pd.DataFrame({'jaccard':scores_jaccard2, 'preferential_attachment':preprocessing.normalize([scores_pr2])[0]})#X_train\n",
        "df_3_test = pd.DataFrame({'jaccard':scores_jaccard3, 'preferential_attachment':preprocessing.normalize([scores_pr3])[0]})#X_test"
      ],
      "metadata": {
        "id": "YigtCTiMME7B"
      },
      "execution_count": null,
      "outputs": []
    },
    {
      "cell_type": "code",
      "source": [
        "y_train = y_jaccard2\n",
        "y_test = y_jaccard3\n",
        "\n",
        "d_tree_auc = tree.DecisionTreeClassifier()\n",
        "d_tree_auc.fit(df_3_train, y_train)\n",
        "y_pred_d_tree_auc = d_tree_auc.predict(df_3_test)\n",
        "y_pred_prob_d_tree_auc = d_tree_auc.predict_proba(df_3_test)[:, 1]\n",
        "print('Accuracy score:', metrics.accuracy_score(y_test, y_pred_d_tree_auc))\n",
        "print('F1 score:', metrics.f1_score(y_test, y_pred_d_tree_auc))\n",
        "\n",
        "fpr_dtc, tpr_dtc, _ = roc_curve(y_test, y_pred_prob_d_tree_auc)\n",
        "\n",
        "fig = plt.figure(figsize=(8, 5))\n",
        "print(\"AUC: \" , auc(fpr_dtc,tpr_dtc))\n",
        "plt.plot(fpr_dtc,tpr_dtc,'--')\n",
        "plt.plot([0, 1], [0, 1], color=\"navy\",  linestyle=\"--\")\n",
        "plt.title('DecisionTreeClassifier', fontsize=16)\n",
        "plt.xlabel(\"False Positive Rate\", fontsize=14)\n",
        "plt.ylabel(\"True Positive Rate\", fontsize=14)\n",
        "\n",
        "plt.show()"
      ],
      "metadata": {
        "id": "FMZa184qDmao",
        "colab": {
          "base_uri": "https://localhost:8080/",
          "height": 408
        },
        "outputId": "102d490a-182c-4409-cf03-5ec8cfa20c64"
      },
      "execution_count": null,
      "outputs": [
        {
          "output_type": "stream",
          "name": "stdout",
          "text": [
            "Accuracy score: 0.8910401647785788\n",
            "F1 score: 0.9383090379008746\n",
            "AUC:  0.7367716638735125\n"
          ]
        },
        {
          "output_type": "display_data",
          "data": {
            "image/png": "[encoded data removed]",
            "text/plain": [
              "<Figure size 576x360 with 1 Axes>"
            ]
          },
          "metadata": {
            "needs_background": "light"
          }
        }
      ]
    },
    {
      "cell_type": "code",
      "source": [
        "y_train = y_jaccard2\n",
        "y_test = y_jaccard3\n",
        "\n",
        "lr_auc = LogisticRegression(class_weight='balanced')\n",
        "lr_auc.fit(df_3_train, y_train)\n",
        "y_pred_lr_auc = lr_auc.predict(df_3_test)\n",
        "y_pred_prob_lr_auc = lr_auc.predict_proba(df_3_test)[:, 1]\n",
        "print('Accuracy score:', metrics.accuracy_score(y_test, y_pred_lr_auc))\n",
        "print('F1 score:', metrics.f1_score(y_test, y_pred_lr_auc))\n",
        "\n",
        "fpr_lr_auc2, tpr_lr_auc2, _ = roc_curve(y_test, y_pred_prob_lr_auc)\n",
        "\n",
        "fig = plt.figure(figsize=(8, 5))\n",
        "print(\"AUC: \" , auc(fpr_lr_auc2,tpr_lr_auc2))\n",
        "plt.plot(fpr_lr_auc2,tpr_lr_auc2,'--')\n",
        "plt.plot([0, 1], [0, 1], color=\"navy\",  linestyle=\"--\")\n",
        "plt.title('LogisticRegression', fontsize=16)\n",
        "plt.xlabel(\"False Positive Rate\", fontsize=14)\n",
        "plt.ylabel(\"True Positive Rate\", fontsize=14)\n",
        "\n",
        "plt.show()"
      ],
      "metadata": {
        "colab": {
          "base_uri": "https://localhost:8080/",
          "height": 408
        },
        "id": "vxGe-WBz5s_R",
        "outputId": "b05f0ad0-90db-4b66-f8c0-13e341d1395a"
      },
      "execution_count": null,
      "outputs": [
        {
          "output_type": "stream",
          "name": "stdout",
          "text": [
            "Accuracy score: 0.7944387229660144\n",
            "F1 score: 0.8662556955239882\n",
            "AUC:  0.9315772434106951\n"
          ]
        },
        {
          "output_type": "display_data",
          "data": {
            "image/png": "[encoded data removed]",
            "text/plain": [
              "<Figure size 576x360 with 1 Axes>"
            ]
          },
          "metadata": {
            "needs_background": "light"
          }
        }
      ]
    },
    {
      "cell_type": "markdown",
      "source": [
        "по AUC ROC примерно тоже самое получилось но логистической регрессии"
      ],
      "metadata": {
        "id": "pruOn-j0-7pH"
      }
    },
    {
      "cell_type": "markdown",
      "source": [
        "### 2.4. Постройте модель предскзания на основе вложения (используйте вложение сети с помощью Лапласиана или Node2vec, на выбор) Сравните качество предсказания для разных размерностей используемого пространства  𝑑 ."
      ],
      "metadata": {
        "id": "-4tH2fH5soGg"
      }
    },
    {
      "cell_type": "code",
      "source": [
        "!pip3 install -q nodevectors \n",
        "!pip install -q node2vec"
      ],
      "metadata": {
        "id": "-NXPE4F4DrDS"
      },
      "execution_count": null,
      "outputs": []
    },
    {
      "cell_type": "code",
      "source": [
        "from node2vec import Node2Vec\n",
        "from nodevectors import Node2Vec as n2"
      ],
      "metadata": {
        "id": "sFtaIzO4sHXB"
      },
      "execution_count": null,
      "outputs": []
    },
    {
      "cell_type": "code",
      "source": [
        "node2vec8 = Node2Vec(G2_train, dimensions=8, walk_length=30, num_walks=200, workers=4)"
      ],
      "metadata": {
        "colab": {
          "base_uri": "https://localhost:8080/",
          "height": 49,
          "referenced_widgets": [
            "57cf47e6f10e44a59f06fbd777cbc1ff",
            "f22b5c8cfa9e4997af083a24c54c8243",
            "9b3ee0be903740dcbb8dc1d3d3b0784b",
            "2fea43d27a984ff89265a1ba0895568d",
            "779ba6caf5824776a6959e83239d2266",
            "40fa633edcb04b49b56a40bfa3c5aedc",
            "3be9233426bd4cdea8a37b05af851ad8",
            "b3a793c0b9694cb3833387a7b5161587",
            "44b35fd407d44d829edc928e424cfa90",
            "318d03415dd4455f93ba3011bb48421d",
            "12cd500c96d347ba89c1386e3543d53d"
          ]
        },
        "id": "bMvDeDU19c61",
        "outputId": "320827ff-45b0-4837-b7b1-c58a99588166"
      },
      "execution_count": null,
      "outputs": [
        {
          "output_type": "display_data",
          "data": {
            "application/vnd.jupyter.widget-view+json": {
              "model_id": "57cf47e6f10e44a59f06fbd777cbc1ff",
              "version_minor": 0,
              "version_major": 2
            },
            "text/plain": [
              "Computing transition probabilities:   0%|          | 0/1005 [00:00<?, ?it/s]"
            ]
          },
          "metadata": {}
        }
      ]
    },
    {
      "cell_type": "code",
      "source": [
        "model8 = node2vec8.fit(window=10, min_count=1, batch_words=4)\n",
        "\n",
        "prediction_wv8 = [(u, v, 0.5 + 0.5 * model8.wv.similarity(u, v)) for (u, v) in test_edges]\n",
        "scores_wv8, y_wv8 = zip(*[(s, (u,v) in G2_test.edges()) for (u,v,s) in prediction_wv8])\n",
        "fpr_wv8, tpr_wv8, thresholds_pr8 = roc_curve(y_wv8, scores_wv8)"
      ],
      "metadata": {
        "id": "mnFf4eQV9c0b"
      },
      "execution_count": null,
      "outputs": []
    },
    {
      "cell_type": "code",
      "source": [
        "node2vec32 = Node2Vec(G2_train, dimensions=32, walk_length=30, num_walks=200, workers=4)"
      ],
      "metadata": {
        "id": "sNcGsKiUCr7L",
        "colab": {
          "base_uri": "https://localhost:8080/",
          "height": 49,
          "referenced_widgets": [
            "6954b4c0280b4e098d5d2bfe391fcacf",
            "d45a6b2ea842461f95fe48c9e472dc5c",
            "7f14464e1e7440d3a406f4dabb036521",
            "6125a5c97d9942e59087c6c16d749a4e",
            "7805a54362f54c56a13c3bd94987ed7c",
            "edd7376645d94107a26182cc089479de",
            "cc7b368bc15f4529a06cac823a0e5d7c",
            "be06be7a65d5400d9746a1894ddfff29",
            "6461db0f877a4cddbd35319d808e2277",
            "572c11d28fb74fb9b92b1bfdf4d8b091",
            "d6d41abbc550443896d40e1c820f1fe5"
          ]
        },
        "outputId": "715f9ab1-d18e-43db-f7fc-1665b089d15a"
      },
      "execution_count": null,
      "outputs": [
        {
          "output_type": "display_data",
          "data": {
            "application/vnd.jupyter.widget-view+json": {
              "model_id": "6954b4c0280b4e098d5d2bfe391fcacf",
              "version_minor": 0,
              "version_major": 2
            },
            "text/plain": [
              "Computing transition probabilities:   0%|          | 0/1005 [00:00<?, ?it/s]"
            ]
          },
          "metadata": {}
        }
      ]
    },
    {
      "cell_type": "code",
      "source": [
        "model32 = node2vec32.fit(window=10, min_count=1, batch_words=4)\n",
        "\n",
        "prediction_wv32 = [(u, v, 0.5 + 0.5 * model32.wv.similarity(u, v)) for (u, v) in test_edges]\n",
        "scores_wv32, y_wv32 = zip(*[(s, (u,v) in G2_test.edges()) for (u,v,s) in prediction_wv32])\n",
        "fpr_wv32, tpr_wv32, thresholds_pr32 = roc_curve(y_wv32, scores_wv32)"
      ],
      "metadata": {
        "id": "UDNOUpdlCrsk"
      },
      "execution_count": null,
      "outputs": []
    },
    {
      "cell_type": "code",
      "source": [
        "node2vec64 = Node2Vec(G2_train, dimensions=64, walk_length=30, num_walks=200, workers=4)"
      ],
      "metadata": {
        "id": "_eZHnpExsHlw",
        "colab": {
          "base_uri": "https://localhost:8080/",
          "height": 49,
          "referenced_widgets": [
            "12d14d552cbe45f481dcdac3380be28b",
            "e9c9b8509b3e4f98887aa27511a03246",
            "0dd3eb716a8a44479c06a971be01f3e7",
            "c6c1626c3d8e46dbb527a242ba1a51b8",
            "f5f8b0ff14e54d61a9d0df5093efc90a",
            "2f056e2557bc44e5b853448ada89386a",
            "91556853dcbb46ddbc177089e79968da",
            "57abbaf8494a4db4b975e374203dea08",
            "b018db666735430cb28a2e720b8e79df",
            "a1d221b2e4e9438bbc28971ed5b063b3",
            "910dd1eb13ad4dc6950b4f7c50cea0c2"
          ]
        },
        "outputId": "57078f99-8b7a-414c-8b06-57f353966877"
      },
      "execution_count": null,
      "outputs": [
        {
          "output_type": "display_data",
          "data": {
            "application/vnd.jupyter.widget-view+json": {
              "model_id": "12d14d552cbe45f481dcdac3380be28b",
              "version_minor": 0,
              "version_major": 2
            },
            "text/plain": [
              "Computing transition probabilities:   0%|          | 0/1005 [00:00<?, ?it/s]"
            ]
          },
          "metadata": {}
        }
      ]
    },
    {
      "cell_type": "code",
      "source": [
        "model64 = node2vec64.fit(window=10, min_count=1, batch_words=4)\n",
        "\n",
        "prediction_wv64 = [(u, v, 0.5 + 0.5 * model64.wv.similarity(u, v)) for (u, v) in test_edges]\n",
        "scores_wv64, y_wv64 = zip(*[(s, (u,v) in G2_test.edges()) for (u,v,s) in prediction_wv64])\n",
        "fpr_wv64, tpr_wv64, thresholds_pr64 = roc_curve(y_wv64, scores_wv64)"
      ],
      "metadata": {
        "id": "tyDPX5Qbf3mS"
      },
      "execution_count": null,
      "outputs": []
    },
    {
      "cell_type": "code",
      "source": [
        "fig, ax = plt.subplots(nrows=1,ncols=3,figsize=(20, 5))\n",
        "  \n",
        "ax[0].plot(fpr_wv8, tpr_wv8,'--')\n",
        "ax[0].plot([0, 1], [0, 1], color=\"navy\",  linestyle=\"--\")\n",
        "ax[0].set_title(('Node2Vec (d=8)\\n AUC: '+ str(round(auc(fpr_wv8, tpr_wv8),4))), fontsize=16)\n",
        "ax[0].set_xlabel(\"False Positive Rate\", fontsize=14)\n",
        "ax[0].set_ylabel(\"True Positive Rate\", fontsize=14)\n",
        "\n",
        "ax[1].plot(fpr_wv32, tpr_wv32,'--')\n",
        "ax[1].plot([0, 1], [0, 1], color=\"navy\",  linestyle=\"--\")\n",
        "ax[1].set_title(('Node2Vec (d=32)\\n AUC: '+ str(round(auc(fpr_wv32, tpr_wv32),4))), fontsize=16)\n",
        "ax[1].set_xlabel(\"False Positive Rate\", fontsize=14)\n",
        "ax[1].set_ylabel(\"True Positive Rate\", fontsize=14)\n",
        "\n",
        "ax[2].plot(fpr_wv64, tpr_wv64,'--')\n",
        "ax[2].plot([0, 1], [0, 1], color=\"navy\",  linestyle=\"--\")\n",
        "ax[2].set_title(('Node2Vec (d=64)\\n AUC: '+ str(round(auc(fpr_wv64, tpr_wv64),4))), fontsize=16)\n",
        "ax[2].set_xlabel(\"False Positive Rate\", fontsize=14)\n",
        "ax[2].set_ylabel(\"True Positive Rate\", fontsize=14)\n",
        "\n",
        "plt.show()"
      ],
      "metadata": {
        "colab": {
          "base_uri": "https://localhost:8080/",
          "height": 373
        },
        "id": "4WDSmXwRf30I",
        "outputId": "039903f7-12bd-4b1d-c548-47a7030bf977"
      },
      "execution_count": null,
      "outputs": [
        {
          "output_type": "display_data",
          "data": {
            "image/png": "[encoded data removed]",
            "text/plain": [
              "<Figure size 1440x360 with 3 Axes>"
            ]
          },
          "metadata": {
            "needs_background": "light"
          }
        }
      ]
    },
    {
      "cell_type": "markdown",
      "metadata": {
        "id": "boks4bjP-D08"
      },
      "source": [
        "## 3. Задача кластеризации (10 баллов)\n",
        "\n",
        " Каждый сотдрудник относится к одному из департаментов, которые и являются истинными сообществами в сети. \n",
        "\n",
        "1. Постройте распределение размеров сообществ в сети, какова доля вершин в наибольшем сообществе? В наименьшем? \n",
        "\n",
        "2. Рассмотрим задачу поиска сообществ с помощью агломеративного метода, постройте зависимость метрик качества от числа задаваемых сообществ. \n",
        "Какое разбиение оказывается более близким к истинному? \n",
        "\n",
        "3. Выполните пункт 2) для алгоритма Гирвана-Ньюмана. Сравните качество агломеративного метода и Гирвана-Ньюмана. "
      ]
    },
    {
      "cell_type": "markdown",
      "source": [
        "### 3.1. Постройте распределение размеров сообществ в сети, какова доля вершин в наибольшем сообществе? В наименьшем?"
      ],
      "metadata": {
        "id": "7EO_0WoLwJfL"
      }
    },
    {
      "cell_type": "code",
      "source": [
        "!wget https://snap.stanford.edu/data/email-Eu-core-department-labels.txt.gz\n",
        "!gzip -dk email-Eu-core-department-labels.txt.gz"
      ],
      "metadata": {
        "colab": {
          "base_uri": "https://localhost:8080/"
        },
        "id": "k6Kn0S78DUO1",
        "outputId": "dfa59f6f-b4ca-4a29-a76f-6d8dbbea0bec"
      },
      "execution_count": null,
      "outputs": [
        {
          "output_type": "stream",
          "name": "stdout",
          "text": [
            "--2021-12-17 18:48:51--  https://snap.stanford.edu/data/email-Eu-core-department-labels.txt.gz\n",
            "Resolving snap.stanford.edu (snap.stanford.edu)... 171.64.75.80\n",
            "Connecting to snap.stanford.edu (snap.stanford.edu)|171.64.75.80|:443... connected.\n",
            "HTTP request sent, awaiting response... 200 OK\n",
            "Length: 2663 (2.6K) [application/x-gzip]\n",
            "Saving to: ‘email-Eu-core-department-labels.txt.gz.1’\n",
            "\n",
            "email-Eu-core-depar 100%[===================>]   2.60K  --.-KB/s    in 0s      \n",
            "\n",
            "2021-12-17 18:48:51 (86.6 MB/s) - ‘email-Eu-core-department-labels.txt.gz.1’ saved [2663/2663]\n",
            "\n",
            "gzip: email-Eu-core-department-labels.txt already exists; do you wish to overwrite (y or n)? n\n",
            "\tnot overwritten\n"
          ]
        }
      ]
    },
    {
      "cell_type": "code",
      "source": [
        "df3=pd.read_csv('email-Eu-core-department-labels.txt',sep=' ', names=['node', 'label'])"
      ],
      "metadata": {
        "id": "exzvsXabqlt5"
      },
      "execution_count": null,
      "outputs": []
    },
    {
      "cell_type": "code",
      "source": [
        "df3.head()"
      ],
      "metadata": {
        "colab": {
          "base_uri": "https://localhost:8080/",
          "height": 206
        },
        "id": "SBBTSsGsrAmk",
        "outputId": "7e1e1d04-226d-4263-dd70-82edb0ccf1cf"
      },
      "execution_count": null,
      "outputs": [
        {
          "output_type": "execute_result",
          "data": {
            "text/html": [
              "\n",
              "  <div id=\"df-36e29b59-c58b-4f5b-88a1-215b730934fd\">\n",
              "    <div class=\"colab-df-container\">\n",
              "      <div>\n",
              "<style scoped>\n",
              "    .dataframe tbody tr th:only-of-type {\n",
              "        vertical-align: middle;\n",
              "    }\n",
              "\n",
              "    .dataframe tbody tr th {\n",
              "        vertical-align: top;\n",
              "    }\n",
              "\n",
              "    .dataframe thead th {\n",
              "        text-align: right;\n",
              "    }\n",
              "</style>\n",
              "<table border=\"1\" class=\"dataframe\">\n",
              "  <thead>\n",
              "    <tr style=\"text-align: right;\">\n",
              "      <th></th>\n",
              "      <th>node</th>\n",
              "      <th>label</th>\n",
              "    </tr>\n",
              "  </thead>\n",
              "  <tbody>\n",
              "    <tr>\n",
              "      <th>0</th>\n",
              "      <td>0</td>\n",
              "      <td>1</td>\n",
              "    </tr>\n",
              "    <tr>\n",
              "      <th>1</th>\n",
              "      <td>1</td>\n",
              "      <td>1</td>\n",
              "    </tr>\n",
              "    <tr>\n",
              "      <th>2</th>\n",
              "      <td>2</td>\n",
              "      <td>21</td>\n",
              "    </tr>\n",
              "    <tr>\n",
              "      <th>3</th>\n",
              "      <td>3</td>\n",
              "      <td>21</td>\n",
              "    </tr>\n",
              "    <tr>\n",
              "      <th>4</th>\n",
              "      <td>4</td>\n",
              "      <td>21</td>\n",
              "    </tr>\n",
              "  </tbody>\n",
              "</table>\n",
              "</div>\n",
              "      <button class=\"colab-df-convert\" onclick=\"convertToInteractive('df-36e29b59-c58b-4f5b-88a1-215b730934fd')\"\n",
              "              title=\"Convert this dataframe to an interactive table.\"\n",
              "              style=\"display:none;\">\n",
              "        \n",
              "  <svg xmlns=\"http://www.w3.org/2000/svg\" height=\"24px\"viewBox=\"0 0 24 24\"\n",
              "       width=\"24px\">\n",
              "    <path d=\"M0 0h24v24H0V0z\" fill=\"none\"/>\n",
              "    <path d=\"M18.56 5.44l.94 2.06.94-2.06 2.06-.94-2.06-.94-.94-2.06-.94 2.06-2.06.94zm-11 1L8.5 8.5l.94-2.06 2.06-.94-2.06-.94L8.5 2.5l-.94 2.06-2.06.94zm10 10l.94 2.06.94-2.06 2.06-.94-2.06-.94-.94-2.06-.94 2.06-2.06.94z\"/><path d=\"M17.41 7.96l-1.37-1.37c-.4-.4-.92-.59-1.43-.59-.52 0-1.04.2-1.43.59L10.3 9.45l-7.72 7.72c-.78.78-.78 2.05 0 2.83L4 21.41c.39.39.9.59 1.41.59.51 0 1.02-.2 1.41-.59l7.78-7.78 2.81-2.81c.8-.78.8-2.07 0-2.86zM5.41 20L4 18.59l7.72-7.72 1.47 1.35L5.41 20z\"/>\n",
              "  </svg>\n",
              "      </button>\n",
              "      \n",
              "  <style>\n",
              "    .colab-df-container {\n",
              "      display:flex;\n",
              "      flex-wrap:wrap;\n",
              "      gap: 12px;\n",
              "    }\n",
              "\n",
              "    .colab-df-convert {\n",
              "      background-color: #E8F0FE;\n",
              "      border: none;\n",
              "      border-radius: 50%;\n",
              "      cursor: pointer;\n",
              "      display: none;\n",
              "      fill: #1967D2;\n",
              "      height: 32px;\n",
              "      padding: 0 0 0 0;\n",
              "      width: 32px;\n",
              "    }\n",
              "\n",
              "    .colab-df-convert:hover {\n",
              "      background-color: #E2EBFA;\n",
              "      box-shadow: 0px 1px 2px rgba(60, 64, 67, 0.3), 0px 1px 3px 1px rgba(60, 64, 67, 0.15);\n",
              "      fill: #174EA6;\n",
              "    }\n",
              "\n",
              "    [theme=dark] .colab-df-convert {\n",
              "      background-color: #3B4455;\n",
              "      fill: #D2E3FC;\n",
              "    }\n",
              "\n",
              "    [theme=dark] .colab-df-convert:hover {\n",
              "      background-color: #434B5C;\n",
              "      box-shadow: 0px 1px 3px 1px rgba(0, 0, 0, 0.15);\n",
              "      filter: drop-shadow(0px 1px 2px rgba(0, 0, 0, 0.3));\n",
              "      fill: #FFFFFF;\n",
              "    }\n",
              "  </style>\n",
              "\n",
              "      <script>\n",
              "        const buttonEl =\n",
              "          document.querySelector('#df-36e29b59-c58b-4f5b-88a1-215b730934fd button.colab-df-convert');\n",
              "        buttonEl.style.display =\n",
              "          google.colab.kernel.accessAllowed ? 'block' : 'none';\n",
              "\n",
              "        async function convertToInteractive(key) {\n",
              "          const element = document.querySelector('#df-36e29b59-c58b-4f5b-88a1-215b730934fd');\n",
              "          const dataTable =\n",
              "            await google.colab.kernel.invokeFunction('convertToInteractive',\n",
              "                                                     [key], {});\n",
              "          if (!dataTable) return;\n",
              "\n",
              "          const docLinkHtml = 'Like what you see? Visit the ' +\n",
              "            '<a target=\"_blank\" href=https://colab.research.google.com/notebooks/data_table.ipynb>data table notebook</a>'\n",
              "            + ' to learn more about interactive tables.';\n",
              "          element.innerHTML = '';\n",
              "          dataTable['output_type'] = 'display_data';\n",
              "          await google.colab.output.renderOutput(dataTable, element);\n",
              "          const docLink = document.createElement('div');\n",
              "          docLink.innerHTML = docLinkHtml;\n",
              "          element.appendChild(docLink);\n",
              "        }\n",
              "      </script>\n",
              "    </div>\n",
              "  </div>\n",
              "  "
            ],
            "text/plain": [
              "   node  label\n",
              "0     0      1\n",
              "1     1      1\n",
              "2     2     21\n",
              "3     3     21\n",
              "4     4     21"
            ]
          },
          "metadata": {},
          "execution_count": 77
        }
      ]
    },
    {
      "cell_type": "code",
      "source": [
        "import itertools"
      ],
      "metadata": {
        "id": "9te_QSMIKnjr"
      },
      "execution_count": null,
      "outputs": []
    },
    {
      "cell_type": "code",
      "source": [
        "x = list(int(i) for i in df3.label)\n",
        "size_of_comms = {i: x.count(i) for i in x}\n",
        "print(size_of_comms)"
      ],
      "metadata": {
        "colab": {
          "base_uri": "https://localhost:8080/"
        },
        "id": "mITANFF8Knod",
        "outputId": "9e00e9f8-d24d-495a-ead2-b0face668bd7"
      },
      "execution_count": null,
      "outputs": [
        {
          "output_type": "stream",
          "name": "stdout",
          "text": [
            "{1: 65, 21: 61, 25: 6, 14: 92, 9: 32, 26: 9, 4: 109, 17: 35, 34: 13, 11: 29, 5: 18, 10: 39, 36: 22, 37: 15, 7: 51, 22: 25, 8: 19, 15: 55, 3: 12, 29: 5, 20: 14, 16: 25, 38: 13, 27: 10, 13: 26, 6: 28, 0: 49, 28: 8, 2: 10, 40: 4, 35: 13, 23: 27, 19: 29, 24: 6, 32: 9, 31: 8, 39: 3, 12: 3, 30: 4, 41: 2, 18: 1, 33: 1}\n"
          ]
        }
      ]
    },
    {
      "cell_type": "code",
      "source": [
        "from scipy import stats\n",
        "\n",
        "\n",
        "fig = plt.figure(figsize=(10,6))\n",
        "data = [i for i in size_of_comms.values()]\n",
        "_, xx, _ = plt.hist(data, bins=len(size_of_comms)+10, density=True)\n",
        "kde = stats.gaussian_kde(data)\n",
        "xx = np.linspace(xx[0], xx[-1], 1000)\n",
        "plt.plot(xx, kde(xx))\n",
        "plt.xlabel(\"size of community\", fontsize=14)\n",
        "plt.ylabel('count of communities', fontsize=14)\n",
        "plt.show()"
      ],
      "metadata": {
        "colab": {
          "base_uri": "https://localhost:8080/",
          "height": 394
        },
        "id": "knIQ3kFiDJ2P",
        "outputId": "51a06a2f-011b-48e4-85a4-32245b98cdcd"
      },
      "execution_count": null,
      "outputs": [
        {
          "output_type": "display_data",
          "data": {
            "image/png": "[encoded data removed]",
            "text/plain": [
              "<Figure size 720x432 with 1 Axes>"
            ]
          },
          "metadata": {
            "needs_background": "light"
          }
        }
      ]
    },
    {
      "cell_type": "code",
      "source": [
        "import operator\n",
        "\n",
        "sorted_size_comm = sorted(size_of_comms.items(), key=operator.itemgetter(1))\n",
        "print('доля наименьшего сообщества:',np.round(sorted_size_comm[0][1]/G2.number_of_nodes(),5))\n",
        "print('доля наибольшего сообщества:',np.round(sorted_size_comm[-1][1]/G2.number_of_nodes(),5))"
      ],
      "metadata": {
        "colab": {
          "base_uri": "https://localhost:8080/"
        },
        "id": "fFAUPlZ2Knyz",
        "outputId": "5ad97455-d4bb-403a-e1ba-a504a7f90a0b"
      },
      "execution_count": null,
      "outputs": [
        {
          "output_type": "stream",
          "name": "stdout",
          "text": [
            "доля наименьшего сообщества: 0.001\n",
            "доля наибольшего сообщества: 0.10846\n"
          ]
        }
      ]
    },
    {
      "cell_type": "markdown",
      "source": [
        "### 3.2. Рассмотрим задачу поиска сообществ с помощью агломеративного метода, постройте зависимость метрик качества от числа задаваемых сообществ. Какое разбиение оказывается более близким к истинному?"
      ],
      "metadata": {
        "id": "BghoUJtjwOS0"
      }
    },
    {
      "cell_type": "code",
      "source": [
        "from sklearn.cluster import AgglomerativeClustering\n",
        "from sklearn.metrics import confusion_matrix\n",
        "from sklearn.metrics import accuracy_score\n",
        "from sklearn.metrics.cluster import normalized_mutual_info_score"
      ],
      "metadata": {
        "id": "9pdl5g8UGSIn"
      },
      "execution_count": null,
      "outputs": []
    },
    {
      "cell_type": "code",
      "source": [
        "def similarity_matrix(G, nodelist=None): # nodelist задает порядок строк в матрице\n",
        "    if (nodelist is None):\n",
        "        nodelist=list(G.nodes)\n",
        "\n",
        "    Smatrix=np.zeros((len(nodelist), len(nodelist)))\n",
        "\n",
        "    for i, node1 in enumerate(nodelist):\n",
        "        for j, node2 in enumerate(nodelist[i+1:], start = i+1):\n",
        "            Smatrix[i,j]=(len(set(G[node1]) & set(G[node2])) + int(G.has_edge(node1,node2)))/(np.min([len(G[node1]),len(G[node2])])\n",
        "                                                                                          +1-int(G.has_edge(node1,node2)))\n",
        "            Smatrix[j,i]=Smatrix[i,j]\n",
        "\n",
        "    return Smatrix"
      ],
      "metadata": {
        "id": "OJ8eaa6SInRQ"
      },
      "execution_count": null,
      "outputs": []
    },
    {
      "cell_type": "code",
      "source": [
        "num_comm = list(set(x))\n",
        "arr_rez_accuracy = []\n",
        "arr_rez_mi = []\n",
        "for i in range(2,num_comm[-1]+1):\n",
        "    communities = AgglomerativeClustering(linkage='average', n_clusters = i)\n",
        "    X=similarity_matrix(G2,nodelist=None)\n",
        "    communities.fit(X)\n",
        "    y_pred=communities.labels_\n",
        "    y_true=x\n",
        "    score_acc = accuracy_score(y_true, y_pred)\n",
        "    arr_rez_accuracy.append(score_acc)\n",
        "    score_mi = normalized_mutual_info_score(y_true, y_pred)\n",
        "    arr_rez_mi.append(score_mi)\n",
        "    print(i,'/',num_comm[-1])"
      ],
      "metadata": {
        "colab": {
          "base_uri": "https://localhost:8080/"
        },
        "id": "MRbyzgI-IXeh",
        "outputId": "76beeaad-0f78-4318-dda0-37bf4502c14f"
      },
      "execution_count": null,
      "outputs": [
        {
          "output_type": "stream",
          "name": "stderr",
          "text": [
            "/usr/local/lib/python3.7/dist-packages/sklearn/cluster/_agglomerative.py:542: ClusterWarning: scipy.cluster: The symmetric non-negative hollow observation matrix looks suspiciously like an uncondensed distance matrix\n",
            "  out = hierarchy.linkage(X, method=linkage, metric=affinity)\n"
          ]
        },
        {
          "output_type": "stream",
          "name": "stdout",
          "text": [
            "2 / 41\n"
          ]
        },
        {
          "output_type": "stream",
          "name": "stderr",
          "text": [
            "/usr/local/lib/python3.7/dist-packages/sklearn/cluster/_agglomerative.py:542: ClusterWarning: scipy.cluster: The symmetric non-negative hollow observation matrix looks suspiciously like an uncondensed distance matrix\n",
            "  out = hierarchy.linkage(X, method=linkage, metric=affinity)\n"
          ]
        },
        {
          "output_type": "stream",
          "name": "stdout",
          "text": [
            "3 / 41\n"
          ]
        },
        {
          "output_type": "stream",
          "name": "stderr",
          "text": [
            "/usr/local/lib/python3.7/dist-packages/sklearn/cluster/_agglomerative.py:542: ClusterWarning: scipy.cluster: The symmetric non-negative hollow observation matrix looks suspiciously like an uncondensed distance matrix\n",
            "  out = hierarchy.linkage(X, method=linkage, metric=affinity)\n"
          ]
        },
        {
          "output_type": "stream",
          "name": "stdout",
          "text": [
            "4 / 41\n"
          ]
        },
        {
          "output_type": "stream",
          "name": "stderr",
          "text": [
            "/usr/local/lib/python3.7/dist-packages/sklearn/cluster/_agglomerative.py:542: ClusterWarning: scipy.cluster: The symmetric non-negative hollow observation matrix looks suspiciously like an uncondensed distance matrix\n",
            "  out = hierarchy.linkage(X, method=linkage, metric=affinity)\n"
          ]
        },
        {
          "output_type": "stream",
          "name": "stdout",
          "text": [
            "5 / 41\n"
          ]
        },
        {
          "output_type": "stream",
          "name": "stderr",
          "text": [
            "/usr/local/lib/python3.7/dist-packages/sklearn/cluster/_agglomerative.py:542: ClusterWarning: scipy.cluster: The symmetric non-negative hollow observation matrix looks suspiciously like an uncondensed distance matrix\n",
            "  out = hierarchy.linkage(X, method=linkage, metric=affinity)\n"
          ]
        },
        {
          "output_type": "stream",
          "name": "stdout",
          "text": [
            "6 / 41\n"
          ]
        },
        {
          "output_type": "stream",
          "name": "stderr",
          "text": [
            "/usr/local/lib/python3.7/dist-packages/sklearn/cluster/_agglomerative.py:542: ClusterWarning: scipy.cluster: The symmetric non-negative hollow observation matrix looks suspiciously like an uncondensed distance matrix\n",
            "  out = hierarchy.linkage(X, method=linkage, metric=affinity)\n"
          ]
        },
        {
          "output_type": "stream",
          "name": "stdout",
          "text": [
            "7 / 41\n"
          ]
        },
        {
          "output_type": "stream",
          "name": "stderr",
          "text": [
            "/usr/local/lib/python3.7/dist-packages/sklearn/cluster/_agglomerative.py:542: ClusterWarning: scipy.cluster: The symmetric non-negative hollow observation matrix looks suspiciously like an uncondensed distance matrix\n",
            "  out = hierarchy.linkage(X, method=linkage, metric=affinity)\n"
          ]
        },
        {
          "output_type": "stream",
          "name": "stdout",
          "text": [
            "8 / 41\n"
          ]
        },
        {
          "output_type": "stream",
          "name": "stderr",
          "text": [
            "/usr/local/lib/python3.7/dist-packages/sklearn/cluster/_agglomerative.py:542: ClusterWarning: scipy.cluster: The symmetric non-negative hollow observation matrix looks suspiciously like an uncondensed distance matrix\n",
            "  out = hierarchy.linkage(X, method=linkage, metric=affinity)\n"
          ]
        },
        {
          "output_type": "stream",
          "name": "stdout",
          "text": [
            "9 / 41\n"
          ]
        },
        {
          "output_type": "stream",
          "name": "stderr",
          "text": [
            "/usr/local/lib/python3.7/dist-packages/sklearn/cluster/_agglomerative.py:542: ClusterWarning: scipy.cluster: The symmetric non-negative hollow observation matrix looks suspiciously like an uncondensed distance matrix\n",
            "  out = hierarchy.linkage(X, method=linkage, metric=affinity)\n"
          ]
        },
        {
          "output_type": "stream",
          "name": "stdout",
          "text": [
            "10 / 41\n"
          ]
        },
        {
          "output_type": "stream",
          "name": "stderr",
          "text": [
            "/usr/local/lib/python3.7/dist-packages/sklearn/cluster/_agglomerative.py:542: ClusterWarning: scipy.cluster: The symmetric non-negative hollow observation matrix looks suspiciously like an uncondensed distance matrix\n",
            "  out = hierarchy.linkage(X, method=linkage, metric=affinity)\n"
          ]
        },
        {
          "output_type": "stream",
          "name": "stdout",
          "text": [
            "11 / 41\n"
          ]
        },
        {
          "output_type": "stream",
          "name": "stderr",
          "text": [
            "/usr/local/lib/python3.7/dist-packages/sklearn/cluster/_agglomerative.py:542: ClusterWarning: scipy.cluster: The symmetric non-negative hollow observation matrix looks suspiciously like an uncondensed distance matrix\n",
            "  out = hierarchy.linkage(X, method=linkage, metric=affinity)\n"
          ]
        },
        {
          "output_type": "stream",
          "name": "stdout",
          "text": [
            "12 / 41\n"
          ]
        },
        {
          "output_type": "stream",
          "name": "stderr",
          "text": [
            "/usr/local/lib/python3.7/dist-packages/sklearn/cluster/_agglomerative.py:542: ClusterWarning: scipy.cluster: The symmetric non-negative hollow observation matrix looks suspiciously like an uncondensed distance matrix\n",
            "  out = hierarchy.linkage(X, method=linkage, metric=affinity)\n"
          ]
        },
        {
          "output_type": "stream",
          "name": "stdout",
          "text": [
            "13 / 41\n"
          ]
        },
        {
          "output_type": "stream",
          "name": "stderr",
          "text": [
            "/usr/local/lib/python3.7/dist-packages/sklearn/cluster/_agglomerative.py:542: ClusterWarning: scipy.cluster: The symmetric non-negative hollow observation matrix looks suspiciously like an uncondensed distance matrix\n",
            "  out = hierarchy.linkage(X, method=linkage, metric=affinity)\n"
          ]
        },
        {
          "output_type": "stream",
          "name": "stdout",
          "text": [
            "14 / 41\n"
          ]
        },
        {
          "output_type": "stream",
          "name": "stderr",
          "text": [
            "/usr/local/lib/python3.7/dist-packages/sklearn/cluster/_agglomerative.py:542: ClusterWarning: scipy.cluster: The symmetric non-negative hollow observation matrix looks suspiciously like an uncondensed distance matrix\n",
            "  out = hierarchy.linkage(X, method=linkage, metric=affinity)\n"
          ]
        },
        {
          "output_type": "stream",
          "name": "stdout",
          "text": [
            "15 / 41\n"
          ]
        },
        {
          "output_type": "stream",
          "name": "stderr",
          "text": [
            "/usr/local/lib/python3.7/dist-packages/sklearn/cluster/_agglomerative.py:542: ClusterWarning: scipy.cluster: The symmetric non-negative hollow observation matrix looks suspiciously like an uncondensed distance matrix\n",
            "  out = hierarchy.linkage(X, method=linkage, metric=affinity)\n"
          ]
        },
        {
          "output_type": "stream",
          "name": "stdout",
          "text": [
            "16 / 41\n"
          ]
        },
        {
          "output_type": "stream",
          "name": "stderr",
          "text": [
            "/usr/local/lib/python3.7/dist-packages/sklearn/cluster/_agglomerative.py:542: ClusterWarning: scipy.cluster: The symmetric non-negative hollow observation matrix looks suspiciously like an uncondensed distance matrix\n",
            "  out = hierarchy.linkage(X, method=linkage, metric=affinity)\n"
          ]
        },
        {
          "output_type": "stream",
          "name": "stdout",
          "text": [
            "17 / 41\n"
          ]
        },
        {
          "output_type": "stream",
          "name": "stderr",
          "text": [
            "/usr/local/lib/python3.7/dist-packages/sklearn/cluster/_agglomerative.py:542: ClusterWarning: scipy.cluster: The symmetric non-negative hollow observation matrix looks suspiciously like an uncondensed distance matrix\n",
            "  out = hierarchy.linkage(X, method=linkage, metric=affinity)\n"
          ]
        },
        {
          "output_type": "stream",
          "name": "stdout",
          "text": [
            "18 / 41\n"
          ]
        },
        {
          "output_type": "stream",
          "name": "stderr",
          "text": [
            "/usr/local/lib/python3.7/dist-packages/sklearn/cluster/_agglomerative.py:542: ClusterWarning: scipy.cluster: The symmetric non-negative hollow observation matrix looks suspiciously like an uncondensed distance matrix\n",
            "  out = hierarchy.linkage(X, method=linkage, metric=affinity)\n"
          ]
        },
        {
          "output_type": "stream",
          "name": "stdout",
          "text": [
            "19 / 41\n"
          ]
        },
        {
          "output_type": "stream",
          "name": "stderr",
          "text": [
            "/usr/local/lib/python3.7/dist-packages/sklearn/cluster/_agglomerative.py:542: ClusterWarning: scipy.cluster: The symmetric non-negative hollow observation matrix looks suspiciously like an uncondensed distance matrix\n",
            "  out = hierarchy.linkage(X, method=linkage, metric=affinity)\n"
          ]
        },
        {
          "output_type": "stream",
          "name": "stdout",
          "text": [
            "20 / 41\n"
          ]
        },
        {
          "output_type": "stream",
          "name": "stderr",
          "text": [
            "/usr/local/lib/python3.7/dist-packages/sklearn/cluster/_agglomerative.py:542: ClusterWarning: scipy.cluster: The symmetric non-negative hollow observation matrix looks suspiciously like an uncondensed distance matrix\n",
            "  out = hierarchy.linkage(X, method=linkage, metric=affinity)\n"
          ]
        },
        {
          "output_type": "stream",
          "name": "stdout",
          "text": [
            "21 / 41\n"
          ]
        },
        {
          "output_type": "stream",
          "name": "stderr",
          "text": [
            "/usr/local/lib/python3.7/dist-packages/sklearn/cluster/_agglomerative.py:542: ClusterWarning: scipy.cluster: The symmetric non-negative hollow observation matrix looks suspiciously like an uncondensed distance matrix\n",
            "  out = hierarchy.linkage(X, method=linkage, metric=affinity)\n"
          ]
        },
        {
          "output_type": "stream",
          "name": "stdout",
          "text": [
            "22 / 41\n"
          ]
        },
        {
          "output_type": "stream",
          "name": "stderr",
          "text": [
            "/usr/local/lib/python3.7/dist-packages/sklearn/cluster/_agglomerative.py:542: ClusterWarning: scipy.cluster: The symmetric non-negative hollow observation matrix looks suspiciously like an uncondensed distance matrix\n",
            "  out = hierarchy.linkage(X, method=linkage, metric=affinity)\n"
          ]
        },
        {
          "output_type": "stream",
          "name": "stdout",
          "text": [
            "23 / 41\n"
          ]
        },
        {
          "output_type": "stream",
          "name": "stderr",
          "text": [
            "/usr/local/lib/python3.7/dist-packages/sklearn/cluster/_agglomerative.py:542: ClusterWarning: scipy.cluster: The symmetric non-negative hollow observation matrix looks suspiciously like an uncondensed distance matrix\n",
            "  out = hierarchy.linkage(X, method=linkage, metric=affinity)\n"
          ]
        },
        {
          "output_type": "stream",
          "name": "stdout",
          "text": [
            "24 / 41\n"
          ]
        },
        {
          "output_type": "stream",
          "name": "stderr",
          "text": [
            "/usr/local/lib/python3.7/dist-packages/sklearn/cluster/_agglomerative.py:542: ClusterWarning: scipy.cluster: The symmetric non-negative hollow observation matrix looks suspiciously like an uncondensed distance matrix\n",
            "  out = hierarchy.linkage(X, method=linkage, metric=affinity)\n"
          ]
        },
        {
          "output_type": "stream",
          "name": "stdout",
          "text": [
            "25 / 41\n"
          ]
        },
        {
          "output_type": "stream",
          "name": "stderr",
          "text": [
            "/usr/local/lib/python3.7/dist-packages/sklearn/cluster/_agglomerative.py:542: ClusterWarning: scipy.cluster: The symmetric non-negative hollow observation matrix looks suspiciously like an uncondensed distance matrix\n",
            "  out = hierarchy.linkage(X, method=linkage, metric=affinity)\n"
          ]
        },
        {
          "output_type": "stream",
          "name": "stdout",
          "text": [
            "26 / 41\n"
          ]
        },
        {
          "output_type": "stream",
          "name": "stderr",
          "text": [
            "/usr/local/lib/python3.7/dist-packages/sklearn/cluster/_agglomerative.py:542: ClusterWarning: scipy.cluster: The symmetric non-negative hollow observation matrix looks suspiciously like an uncondensed distance matrix\n",
            "  out = hierarchy.linkage(X, method=linkage, metric=affinity)\n"
          ]
        },
        {
          "output_type": "stream",
          "name": "stdout",
          "text": [
            "27 / 41\n"
          ]
        },
        {
          "output_type": "stream",
          "name": "stderr",
          "text": [
            "/usr/local/lib/python3.7/dist-packages/sklearn/cluster/_agglomerative.py:542: ClusterWarning: scipy.cluster: The symmetric non-negative hollow observation matrix looks suspiciously like an uncondensed distance matrix\n",
            "  out = hierarchy.linkage(X, method=linkage, metric=affinity)\n"
          ]
        },
        {
          "output_type": "stream",
          "name": "stdout",
          "text": [
            "28 / 41\n"
          ]
        },
        {
          "output_type": "stream",
          "name": "stderr",
          "text": [
            "/usr/local/lib/python3.7/dist-packages/sklearn/cluster/_agglomerative.py:542: ClusterWarning: scipy.cluster: The symmetric non-negative hollow observation matrix looks suspiciously like an uncondensed distance matrix\n",
            "  out = hierarchy.linkage(X, method=linkage, metric=affinity)\n"
          ]
        },
        {
          "output_type": "stream",
          "name": "stdout",
          "text": [
            "29 / 41\n"
          ]
        },
        {
          "output_type": "stream",
          "name": "stderr",
          "text": [
            "/usr/local/lib/python3.7/dist-packages/sklearn/cluster/_agglomerative.py:542: ClusterWarning: scipy.cluster: The symmetric non-negative hollow observation matrix looks suspiciously like an uncondensed distance matrix\n",
            "  out = hierarchy.linkage(X, method=linkage, metric=affinity)\n"
          ]
        },
        {
          "output_type": "stream",
          "name": "stdout",
          "text": [
            "30 / 41\n"
          ]
        },
        {
          "output_type": "stream",
          "name": "stderr",
          "text": [
            "/usr/local/lib/python3.7/dist-packages/sklearn/cluster/_agglomerative.py:542: ClusterWarning: scipy.cluster: The symmetric non-negative hollow observation matrix looks suspiciously like an uncondensed distance matrix\n",
            "  out = hierarchy.linkage(X, method=linkage, metric=affinity)\n"
          ]
        },
        {
          "output_type": "stream",
          "name": "stdout",
          "text": [
            "31 / 41\n"
          ]
        },
        {
          "output_type": "stream",
          "name": "stderr",
          "text": [
            "/usr/local/lib/python3.7/dist-packages/sklearn/cluster/_agglomerative.py:542: ClusterWarning: scipy.cluster: The symmetric non-negative hollow observation matrix looks suspiciously like an uncondensed distance matrix\n",
            "  out = hierarchy.linkage(X, method=linkage, metric=affinity)\n"
          ]
        },
        {
          "output_type": "stream",
          "name": "stdout",
          "text": [
            "32 / 41\n"
          ]
        },
        {
          "output_type": "stream",
          "name": "stderr",
          "text": [
            "/usr/local/lib/python3.7/dist-packages/sklearn/cluster/_agglomerative.py:542: ClusterWarning: scipy.cluster: The symmetric non-negative hollow observation matrix looks suspiciously like an uncondensed distance matrix\n",
            "  out = hierarchy.linkage(X, method=linkage, metric=affinity)\n"
          ]
        },
        {
          "output_type": "stream",
          "name": "stdout",
          "text": [
            "33 / 41\n"
          ]
        },
        {
          "output_type": "stream",
          "name": "stderr",
          "text": [
            "/usr/local/lib/python3.7/dist-packages/sklearn/cluster/_agglomerative.py:542: ClusterWarning: scipy.cluster: The symmetric non-negative hollow observation matrix looks suspiciously like an uncondensed distance matrix\n",
            "  out = hierarchy.linkage(X, method=linkage, metric=affinity)\n"
          ]
        },
        {
          "output_type": "stream",
          "name": "stdout",
          "text": [
            "34 / 41\n"
          ]
        },
        {
          "output_type": "stream",
          "name": "stderr",
          "text": [
            "/usr/local/lib/python3.7/dist-packages/sklearn/cluster/_agglomerative.py:542: ClusterWarning: scipy.cluster: The symmetric non-negative hollow observation matrix looks suspiciously like an uncondensed distance matrix\n",
            "  out = hierarchy.linkage(X, method=linkage, metric=affinity)\n"
          ]
        },
        {
          "output_type": "stream",
          "name": "stdout",
          "text": [
            "35 / 41\n"
          ]
        },
        {
          "output_type": "stream",
          "name": "stderr",
          "text": [
            "/usr/local/lib/python3.7/dist-packages/sklearn/cluster/_agglomerative.py:542: ClusterWarning: scipy.cluster: The symmetric non-negative hollow observation matrix looks suspiciously like an uncondensed distance matrix\n",
            "  out = hierarchy.linkage(X, method=linkage, metric=affinity)\n"
          ]
        },
        {
          "output_type": "stream",
          "name": "stdout",
          "text": [
            "36 / 41\n"
          ]
        },
        {
          "output_type": "stream",
          "name": "stderr",
          "text": [
            "/usr/local/lib/python3.7/dist-packages/sklearn/cluster/_agglomerative.py:542: ClusterWarning: scipy.cluster: The symmetric non-negative hollow observation matrix looks suspiciously like an uncondensed distance matrix\n",
            "  out = hierarchy.linkage(X, method=linkage, metric=affinity)\n"
          ]
        },
        {
          "output_type": "stream",
          "name": "stdout",
          "text": [
            "37 / 41\n"
          ]
        },
        {
          "output_type": "stream",
          "name": "stderr",
          "text": [
            "/usr/local/lib/python3.7/dist-packages/sklearn/cluster/_agglomerative.py:542: ClusterWarning: scipy.cluster: The symmetric non-negative hollow observation matrix looks suspiciously like an uncondensed distance matrix\n",
            "  out = hierarchy.linkage(X, method=linkage, metric=affinity)\n"
          ]
        },
        {
          "output_type": "stream",
          "name": "stdout",
          "text": [
            "38 / 41\n"
          ]
        },
        {
          "output_type": "stream",
          "name": "stderr",
          "text": [
            "/usr/local/lib/python3.7/dist-packages/sklearn/cluster/_agglomerative.py:542: ClusterWarning: scipy.cluster: The symmetric non-negative hollow observation matrix looks suspiciously like an uncondensed distance matrix\n",
            "  out = hierarchy.linkage(X, method=linkage, metric=affinity)\n"
          ]
        },
        {
          "output_type": "stream",
          "name": "stdout",
          "text": [
            "39 / 41\n"
          ]
        },
        {
          "output_type": "stream",
          "name": "stderr",
          "text": [
            "/usr/local/lib/python3.7/dist-packages/sklearn/cluster/_agglomerative.py:542: ClusterWarning: scipy.cluster: The symmetric non-negative hollow observation matrix looks suspiciously like an uncondensed distance matrix\n",
            "  out = hierarchy.linkage(X, method=linkage, metric=affinity)\n"
          ]
        },
        {
          "output_type": "stream",
          "name": "stdout",
          "text": [
            "40 / 41\n"
          ]
        },
        {
          "output_type": "stream",
          "name": "stderr",
          "text": [
            "/usr/local/lib/python3.7/dist-packages/sklearn/cluster/_agglomerative.py:542: ClusterWarning: scipy.cluster: The symmetric non-negative hollow observation matrix looks suspiciously like an uncondensed distance matrix\n",
            "  out = hierarchy.linkage(X, method=linkage, metric=affinity)\n"
          ]
        },
        {
          "output_type": "stream",
          "name": "stdout",
          "text": [
            "41 / 41\n"
          ]
        }
      ]
    },
    {
      "cell_type": "code",
      "source": [
        "fig = plt.figure(figsize=(10,7))\n",
        "plt.plot(range(2,num_comm[-1]+1), arr_rez_mi, '--o')\n",
        "plt.xticks(range(2,num_comm[-1]+1))\n",
        "plt.title('AgglomerativeClustering', fontsize=16)\n",
        "plt.xlabel('number of communities')\n",
        "plt.ylabel('MI')\n",
        "plt.show()"
      ],
      "metadata": {
        "colab": {
          "base_uri": "https://localhost:8080/",
          "height": 460
        },
        "id": "rTDRdk7bK7Gx",
        "outputId": "adaf3b1e-0961-44a9-d7ce-3860563517c1"
      },
      "execution_count": null,
      "outputs": [
        {
          "output_type": "display_data",
          "data": {
            "image/png": "[encoded data removed]",
            "text/plain": [
              "<Figure size 720x504 with 1 Axes>"
            ]
          },
          "metadata": {
            "needs_background": "light"
          }
        }
      ]
    },
    {
      "cell_type": "markdown",
      "source": [
        "метрика улучшается не линено, но все равно  увеличивается с приближением к реальному числу классов"
      ],
      "metadata": {
        "id": "WAIpHC13_jMe"
      }
    },
    {
      "cell_type": "markdown",
      "source": [
        "### 3.3. Выполните пункт 2) для алгоритма Гирвана-Ньюмана. Сравните качество агломеративного метода и Гирвана-Ньюмана."
      ],
      "metadata": {
        "id": "15kcYYGDwXBs"
      }
    },
    {
      "cell_type": "code",
      "source": [
        "import itertools\n",
        "comp = nx.algorithms.community.girvan_newman(G2)\n",
        "k_clusters = []\n",
        "scores = []\n",
        "for communities in itertools.islice(comp, 2,num_comm[-1]-19):\n",
        "    l = list(sorted(c) for c in communities)\n",
        "    k_clusters.append(len(l))\n",
        "    preds =  np.zeros(len(df3))\n",
        "    for i, community in enumerate(l):\n",
        "        for node in community:\n",
        "            preds[int(node)] = i\n",
        "    scores.append(normalized_mutual_info_score(df3['label'].values.astype('int'), preds))"
      ],
      "metadata": {
        "id": "J0ncTY2ULaCG"
      },
      "execution_count": null,
      "outputs": []
    },
    {
      "cell_type": "code",
      "source": [
        "plt.figure(figsize=(10, 7))\n",
        "plt.plot(k_clusters, scores, 'o--')\n",
        "plt.xticks(k_clusters)\n",
        "plt.title('Girvan Newman',fontsize=16)\n",
        "plt.xlabel('number of communities')\n",
        "plt.ylabel('MI')\n",
        "plt.show()"
      ],
      "metadata": {
        "colab": {
          "base_uri": "https://localhost:8080/",
          "height": 460
        },
        "id": "IzZQrCl5el99",
        "outputId": "f4121f29-9372-4e6a-d453-19c65079f230"
      },
      "execution_count": null,
      "outputs": [
        {
          "output_type": "display_data",
          "data": {
            "image/png": "[encoded data removed]",
            "text/plain": [
              "<Figure size 720x504 with 1 Axes>"
            ]
          },
          "metadata": {
            "needs_background": "light"
          }
        }
      ]
    },
    {
      "cell_type": "markdown",
      "source": [
        "для совпадающего количества кластеров агломеративный метод показывает себя лучше"
      ],
      "metadata": {
        "id": "X8zS7K8O_yQw"
      }
    },
    {
      "cell_type": "code",
      "source": [
        ""
      ],
      "metadata": {
        "id": "9dh3G5yKlpCA"
      },
      "execution_count": null,
      "outputs": []
    }
  ]
}