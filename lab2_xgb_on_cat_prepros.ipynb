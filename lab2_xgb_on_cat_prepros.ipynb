{
  "nbformat": 4,
  "nbformat_minor": 0,
  "metadata": {
    "accelerator": "GPU",
    "colab": {
      "name": "lab2_xgb_on_cat_prepros.ipynb",
      "provenance": [],
      "collapsed_sections": [],
      "machine_shape": "hm"
    },
    "kernelspec": {
      "display_name": "Python 3",
      "language": "python",
      "name": "python3"
    },
    "language_info": {
      "codemirror_mode": {
        "name": "ipython",
        "version": 3
      },
      "file_extension": ".py",
      "mimetype": "text/x-python",
      "name": "python",
      "nbconvert_exporter": "python",
      "pygments_lexer": "ipython3",
      "version": "3.7.1"
    }
  },
  "cells": [
    {
      "cell_type": "code",
      "metadata": {
        "id": "UU-09BJxx1ij"
      },
      "source": [
        "import numpy as np\n",
        "import xgboost as xgb\n",
        "import pandas as pd\n",
        "import math\n",
        "import os\n",
        "import sys\n",
        "%matplotlib inline\n",
        "from sklearn.model_selection import train_test_split\n",
        "from sklearn.metrics import mean_squared_log_error \n",
        "from sklearn.metrics import r2_score\n",
        "from sklearn.ensemble import RandomForestRegressor\n",
        "from sklearn.model_selection import GridSearchCV\n",
        "from sklearn.metrics import make_scorer"
      ],
      "execution_count": 1,
      "outputs": []
    },
    {
      "cell_type": "code",
      "metadata": {
        "colab": {
          "base_uri": "https://localhost:8080/",
          "height": 562
        },
        "id": "4CjE1igPybVh",
        "outputId": "0e8d3a06-01d6-4a44-f097-de995b7e67df"
      },
      "source": [
        "filename='X_train.csv'\n",
        "\n",
        "%time X_train = pd.read_csv('X_train.csv')\n",
        "%time y_train = pd.read_csv('y_train.csv', names=['Demanda_uni_equil'])\n",
        "%time X_test  = pd.read_csv('X_test.csv')\n",
        "%time y_test  = pd.read_csv('y_test.csv', names=['Demanda_uni_equil'])\n",
        "X_train"
      ],
      "execution_count": 15,
      "outputs": [
        {
          "output_type": "stream",
          "name": "stdout",
          "text": [
            "CPU times: user 56 ms, sys: 2.53 ms, total: 58.5 ms\n",
            "Wall time: 56.8 ms\n",
            "CPU times: user 7.61 ms, sys: 0 ns, total: 7.61 ms\n",
            "Wall time: 6.19 ms\n",
            "CPU times: user 27.2 ms, sys: 627 µs, total: 27.8 ms\n",
            "Wall time: 26.4 ms\n",
            "CPU times: user 4.33 ms, sys: 0 ns, total: 4.33 ms\n",
            "Wall time: 3.8 ms\n"
          ]
        },
        {
          "output_type": "execute_result",
          "data": {
            "text/html": [
              "<div>\n",
              "<style scoped>\n",
              "    .dataframe tbody tr th:only-of-type {\n",
              "        vertical-align: middle;\n",
              "    }\n",
              "\n",
              "    .dataframe tbody tr th {\n",
              "        vertical-align: top;\n",
              "    }\n",
              "\n",
              "    .dataframe thead th {\n",
              "        text-align: right;\n",
              "    }\n",
              "</style>\n",
              "<table border=\"1\" class=\"dataframe\">\n",
              "  <thead>\n",
              "    <tr style=\"text-align: right;\">\n",
              "      <th></th>\n",
              "      <th>Semana</th>\n",
              "      <th>Agencia_ID</th>\n",
              "      <th>Canal_ID</th>\n",
              "      <th>Ruta_SAK</th>\n",
              "      <th>Cliente_ID</th>\n",
              "      <th>Producto_ID</th>\n",
              "      <th>Town</th>\n",
              "      <th>State_0</th>\n",
              "      <th>State_1</th>\n",
              "      <th>State_2</th>\n",
              "      <th>State_3</th>\n",
              "      <th>State_4</th>\n",
              "      <th>State_5</th>\n",
              "    </tr>\n",
              "  </thead>\n",
              "  <tbody>\n",
              "    <tr>\n",
              "      <th>0</th>\n",
              "      <td>6</td>\n",
              "      <td>1332</td>\n",
              "      <td>1</td>\n",
              "      <td>1117</td>\n",
              "      <td>544559</td>\n",
              "      <td>1242</td>\n",
              "      <td>4.898649</td>\n",
              "      <td>0</td>\n",
              "      <td>0</td>\n",
              "      <td>1</td>\n",
              "      <td>0</td>\n",
              "      <td>1</td>\n",
              "      <td>1</td>\n",
              "    </tr>\n",
              "    <tr>\n",
              "      <th>1</th>\n",
              "      <td>8</td>\n",
              "      <td>2215</td>\n",
              "      <td>1</td>\n",
              "      <td>5002</td>\n",
              "      <td>310025</td>\n",
              "      <td>45143</td>\n",
              "      <td>8.561562</td>\n",
              "      <td>0</td>\n",
              "      <td>1</td>\n",
              "      <td>0</td>\n",
              "      <td>1</td>\n",
              "      <td>1</td>\n",
              "      <td>1</td>\n",
              "    </tr>\n",
              "    <tr>\n",
              "      <th>2</th>\n",
              "      <td>9</td>\n",
              "      <td>3212</td>\n",
              "      <td>1</td>\n",
              "      <td>1016</td>\n",
              "      <td>4242746</td>\n",
              "      <td>4910</td>\n",
              "      <td>5.676667</td>\n",
              "      <td>0</td>\n",
              "      <td>0</td>\n",
              "      <td>0</td>\n",
              "      <td>0</td>\n",
              "      <td>1</td>\n",
              "      <td>0</td>\n",
              "    </tr>\n",
              "    <tr>\n",
              "      <th>3</th>\n",
              "      <td>8</td>\n",
              "      <td>2012</td>\n",
              "      <td>1</td>\n",
              "      <td>1191</td>\n",
              "      <td>7927107</td>\n",
              "      <td>1064</td>\n",
              "      <td>4.460043</td>\n",
              "      <td>0</td>\n",
              "      <td>0</td>\n",
              "      <td>1</td>\n",
              "      <td>1</td>\n",
              "      <td>0</td>\n",
              "      <td>0</td>\n",
              "    </tr>\n",
              "    <tr>\n",
              "      <th>4</th>\n",
              "      <td>6</td>\n",
              "      <td>1338</td>\n",
              "      <td>1</td>\n",
              "      <td>1209</td>\n",
              "      <td>1008869</td>\n",
              "      <td>1242</td>\n",
              "      <td>7.164000</td>\n",
              "      <td>0</td>\n",
              "      <td>0</td>\n",
              "      <td>1</td>\n",
              "      <td>0</td>\n",
              "      <td>1</td>\n",
              "      <td>1</td>\n",
              "    </tr>\n",
              "    <tr>\n",
              "      <th>...</th>\n",
              "      <td>...</td>\n",
              "      <td>...</td>\n",
              "      <td>...</td>\n",
              "      <td>...</td>\n",
              "      <td>...</td>\n",
              "      <td>...</td>\n",
              "      <td>...</td>\n",
              "      <td>...</td>\n",
              "      <td>...</td>\n",
              "      <td>...</td>\n",
              "      <td>...</td>\n",
              "      <td>...</td>\n",
              "      <td>...</td>\n",
              "    </tr>\n",
              "    <tr>\n",
              "      <th>64606</th>\n",
              "      <td>8</td>\n",
              "      <td>1628</td>\n",
              "      <td>1</td>\n",
              "      <td>1283</td>\n",
              "      <td>2478587</td>\n",
              "      <td>48417</td>\n",
              "      <td>11.919872</td>\n",
              "      <td>0</td>\n",
              "      <td>0</td>\n",
              "      <td>0</td>\n",
              "      <td>1</td>\n",
              "      <td>1</td>\n",
              "      <td>0</td>\n",
              "    </tr>\n",
              "    <tr>\n",
              "      <th>64607</th>\n",
              "      <td>5</td>\n",
              "      <td>1344</td>\n",
              "      <td>1</td>\n",
              "      <td>1204</td>\n",
              "      <td>2148440</td>\n",
              "      <td>35651</td>\n",
              "      <td>6.378378</td>\n",
              "      <td>0</td>\n",
              "      <td>1</td>\n",
              "      <td>1</td>\n",
              "      <td>1</td>\n",
              "      <td>1</td>\n",
              "      <td>0</td>\n",
              "    </tr>\n",
              "    <tr>\n",
              "      <th>64608</th>\n",
              "      <td>6</td>\n",
              "      <td>1998</td>\n",
              "      <td>1</td>\n",
              "      <td>2164</td>\n",
              "      <td>603140</td>\n",
              "      <td>4085</td>\n",
              "      <td>19.165000</td>\n",
              "      <td>0</td>\n",
              "      <td>0</td>\n",
              "      <td>1</td>\n",
              "      <td>0</td>\n",
              "      <td>1</td>\n",
              "      <td>0</td>\n",
              "    </tr>\n",
              "    <tr>\n",
              "      <th>64609</th>\n",
              "      <td>9</td>\n",
              "      <td>1955</td>\n",
              "      <td>1</td>\n",
              "      <td>1113</td>\n",
              "      <td>904615</td>\n",
              "      <td>1309</td>\n",
              "      <td>7.522321</td>\n",
              "      <td>0</td>\n",
              "      <td>1</td>\n",
              "      <td>0</td>\n",
              "      <td>0</td>\n",
              "      <td>1</td>\n",
              "      <td>1</td>\n",
              "    </tr>\n",
              "    <tr>\n",
              "      <th>64610</th>\n",
              "      <td>3</td>\n",
              "      <td>1911</td>\n",
              "      <td>1</td>\n",
              "      <td>2071</td>\n",
              "      <td>104834</td>\n",
              "      <td>43316</td>\n",
              "      <td>7.362622</td>\n",
              "      <td>0</td>\n",
              "      <td>0</td>\n",
              "      <td>1</td>\n",
              "      <td>0</td>\n",
              "      <td>1</td>\n",
              "      <td>1</td>\n",
              "    </tr>\n",
              "  </tbody>\n",
              "</table>\n",
              "<p>64611 rows × 13 columns</p>\n",
              "</div>"
            ],
            "text/plain": [
              "       Semana  Agencia_ID  Canal_ID  ...  State_3  State_4  State_5\n",
              "0           6        1332         1  ...        0        1        1\n",
              "1           8        2215         1  ...        1        1        1\n",
              "2           9        3212         1  ...        0        1        0\n",
              "3           8        2012         1  ...        1        0        0\n",
              "4           6        1338         1  ...        0        1        1\n",
              "...       ...         ...       ...  ...      ...      ...      ...\n",
              "64606       8        1628         1  ...        1        1        0\n",
              "64607       5        1344         1  ...        1        1        0\n",
              "64608       6        1998         1  ...        0        1        0\n",
              "64609       9        1955         1  ...        0        1        1\n",
              "64610       3        1911         1  ...        0        1        1\n",
              "\n",
              "[64611 rows x 13 columns]"
            ]
          },
          "metadata": {},
          "execution_count": 15
        }
      ]
    },
    {
      "cell_type": "code",
      "metadata": {
        "id": "FFOG89bj3pW_"
      },
      "source": [
        "def rmsle(y_true, y_pred):\n",
        "    y_pred = np.maximum(y_pred, 0)\n",
        "    y_true = np.maximum(y_true, 0)\n",
        "    res = math.sqrt(mean_squared_log_error(y_true, y_pred))\n",
        "    return res"
      ],
      "execution_count": 30,
      "outputs": []
    },
    {
      "cell_type": "markdown",
      "metadata": {
        "id": "DhEKS62F4c0W"
      },
      "source": [
        "## XGBRegressor"
      ]
    },
    {
      "cell_type": "code",
      "metadata": {
        "colab": {
          "base_uri": "https://localhost:8080/"
        },
        "id": "_W7ITA814M7u",
        "outputId": "d85c464e-4f71-4d3e-9188-ef142d23f8e5"
      },
      "source": [
        "score_rmsle = make_scorer(rmsle, greater_is_better=False)\n",
        "\n",
        "parameters = {\n",
        "    'n_estimators':[400, 500],\n",
        "    'max_depth':[10, 20],\n",
        "    'learning_rate': [0.01,0.05],\n",
        "    'colsample_bytree': [0.5,0.6],\n",
        "    }\n",
        "\n",
        "xgbr = xgb.XGBRegressor(objective='reg:squarederror', tree_method='gpu_hist', gpu_id=0) \n",
        "xgbr_grid = GridSearchCV(xgbr, parameters, scoring=score_rmsle, cv=3, verbose=2)\n",
        "\n",
        "xgbr_grid.fit(X_train, y_train)"
      ],
      "execution_count": 17,
      "outputs": [
        {
          "output_type": "stream",
          "name": "stdout",
          "text": [
            "Fitting 3 folds for each of 16 candidates, totalling 48 fits\n",
            "[CV] colsample_bytree=0.5, learning_rate=0.01, max_depth=10, n_estimators=400 \n"
          ]
        },
        {
          "output_type": "stream",
          "name": "stderr",
          "text": [
            "[Parallel(n_jobs=1)]: Using backend SequentialBackend with 1 concurrent workers.\n"
          ]
        },
        {
          "output_type": "stream",
          "name": "stdout",
          "text": [
            "[CV]  colsample_bytree=0.5, learning_rate=0.01, max_depth=10, n_estimators=400, total=  11.2s\n",
            "[CV] colsample_bytree=0.5, learning_rate=0.01, max_depth=10, n_estimators=400 \n"
          ]
        },
        {
          "output_type": "stream",
          "name": "stderr",
          "text": [
            "[Parallel(n_jobs=1)]: Done   1 out of   1 | elapsed:   11.2s remaining:    0.0s\n"
          ]
        },
        {
          "output_type": "stream",
          "name": "stdout",
          "text": [
            "[CV]  colsample_bytree=0.5, learning_rate=0.01, max_depth=10, n_estimators=400, total=  10.0s\n",
            "[CV] colsample_bytree=0.5, learning_rate=0.01, max_depth=10, n_estimators=400 \n",
            "[CV]  colsample_bytree=0.5, learning_rate=0.01, max_depth=10, n_estimators=400, total=   9.7s\n",
            "[CV] colsample_bytree=0.5, learning_rate=0.01, max_depth=10, n_estimators=500 \n",
            "[CV]  colsample_bytree=0.5, learning_rate=0.01, max_depth=10, n_estimators=500, total=  12.8s\n",
            "[CV] colsample_bytree=0.5, learning_rate=0.01, max_depth=10, n_estimators=500 \n",
            "[CV]  colsample_bytree=0.5, learning_rate=0.01, max_depth=10, n_estimators=500, total=  12.5s\n",
            "[CV] colsample_bytree=0.5, learning_rate=0.01, max_depth=10, n_estimators=500 \n",
            "[CV]  colsample_bytree=0.5, learning_rate=0.01, max_depth=10, n_estimators=500, total=  12.2s\n",
            "[CV] colsample_bytree=0.5, learning_rate=0.01, max_depth=20, n_estimators=400 \n",
            "[CV]  colsample_bytree=0.5, learning_rate=0.01, max_depth=20, n_estimators=400, total= 3.8min\n",
            "[CV] colsample_bytree=0.5, learning_rate=0.01, max_depth=20, n_estimators=400 \n",
            "[CV]  colsample_bytree=0.5, learning_rate=0.01, max_depth=20, n_estimators=400, total= 3.7min\n",
            "[CV] colsample_bytree=0.5, learning_rate=0.01, max_depth=20, n_estimators=400 \n",
            "[CV]  colsample_bytree=0.5, learning_rate=0.01, max_depth=20, n_estimators=400, total= 3.6min\n",
            "[CV] colsample_bytree=0.5, learning_rate=0.01, max_depth=20, n_estimators=500 \n",
            "[CV]  colsample_bytree=0.5, learning_rate=0.01, max_depth=20, n_estimators=500, total= 4.6min\n",
            "[CV] colsample_bytree=0.5, learning_rate=0.01, max_depth=20, n_estimators=500 \n",
            "[CV]  colsample_bytree=0.5, learning_rate=0.01, max_depth=20, n_estimators=500, total= 4.5min\n",
            "[CV] colsample_bytree=0.5, learning_rate=0.01, max_depth=20, n_estimators=500 \n",
            "[CV]  colsample_bytree=0.5, learning_rate=0.01, max_depth=20, n_estimators=500, total= 4.4min\n",
            "[CV] colsample_bytree=0.5, learning_rate=0.05, max_depth=10, n_estimators=400 \n",
            "[CV]  colsample_bytree=0.5, learning_rate=0.05, max_depth=10, n_estimators=400, total=   9.8s\n",
            "[CV] colsample_bytree=0.5, learning_rate=0.05, max_depth=10, n_estimators=400 \n",
            "[CV]  colsample_bytree=0.5, learning_rate=0.05, max_depth=10, n_estimators=400, total=  10.0s\n",
            "[CV] colsample_bytree=0.5, learning_rate=0.05, max_depth=10, n_estimators=400 \n",
            "[CV]  colsample_bytree=0.5, learning_rate=0.05, max_depth=10, n_estimators=400, total=   9.5s\n",
            "[CV] colsample_bytree=0.5, learning_rate=0.05, max_depth=10, n_estimators=500 \n",
            "[CV]  colsample_bytree=0.5, learning_rate=0.05, max_depth=10, n_estimators=500, total=  12.3s\n",
            "[CV] colsample_bytree=0.5, learning_rate=0.05, max_depth=10, n_estimators=500 \n",
            "[CV]  colsample_bytree=0.5, learning_rate=0.05, max_depth=10, n_estimators=500, total=  12.5s\n",
            "[CV] colsample_bytree=0.5, learning_rate=0.05, max_depth=10, n_estimators=500 \n",
            "[CV]  colsample_bytree=0.5, learning_rate=0.05, max_depth=10, n_estimators=500, total=  12.0s\n",
            "[CV] colsample_bytree=0.5, learning_rate=0.05, max_depth=20, n_estimators=400 \n",
            "[CV]  colsample_bytree=0.5, learning_rate=0.05, max_depth=20, n_estimators=400, total= 3.3min\n",
            "[CV] colsample_bytree=0.5, learning_rate=0.05, max_depth=20, n_estimators=400 \n",
            "[CV]  colsample_bytree=0.5, learning_rate=0.05, max_depth=20, n_estimators=400, total= 3.1min\n",
            "[CV] colsample_bytree=0.5, learning_rate=0.05, max_depth=20, n_estimators=400 \n",
            "[CV]  colsample_bytree=0.5, learning_rate=0.05, max_depth=20, n_estimators=400, total= 3.1min\n",
            "[CV] colsample_bytree=0.5, learning_rate=0.05, max_depth=20, n_estimators=500 \n",
            "[CV]  colsample_bytree=0.5, learning_rate=0.05, max_depth=20, n_estimators=500, total= 4.1min\n",
            "[CV] colsample_bytree=0.5, learning_rate=0.05, max_depth=20, n_estimators=500 \n",
            "[CV]  colsample_bytree=0.5, learning_rate=0.05, max_depth=20, n_estimators=500, total= 3.8min\n",
            "[CV] colsample_bytree=0.5, learning_rate=0.05, max_depth=20, n_estimators=500 \n",
            "[CV]  colsample_bytree=0.5, learning_rate=0.05, max_depth=20, n_estimators=500, total= 3.9min\n",
            "[CV] colsample_bytree=0.6, learning_rate=0.01, max_depth=10, n_estimators=400 \n",
            "[CV]  colsample_bytree=0.6, learning_rate=0.01, max_depth=10, n_estimators=400, total=  10.8s\n",
            "[CV] colsample_bytree=0.6, learning_rate=0.01, max_depth=10, n_estimators=400 \n",
            "[CV]  colsample_bytree=0.6, learning_rate=0.01, max_depth=10, n_estimators=400, total=  10.8s\n",
            "[CV] colsample_bytree=0.6, learning_rate=0.01, max_depth=10, n_estimators=400 \n",
            "[CV]  colsample_bytree=0.6, learning_rate=0.01, max_depth=10, n_estimators=400, total=  10.2s\n",
            "[CV] colsample_bytree=0.6, learning_rate=0.01, max_depth=10, n_estimators=500 \n",
            "[CV]  colsample_bytree=0.6, learning_rate=0.01, max_depth=10, n_estimators=500, total=  13.3s\n",
            "[CV] colsample_bytree=0.6, learning_rate=0.01, max_depth=10, n_estimators=500 \n",
            "[CV]  colsample_bytree=0.6, learning_rate=0.01, max_depth=10, n_estimators=500, total=  13.2s\n",
            "[CV] colsample_bytree=0.6, learning_rate=0.01, max_depth=10, n_estimators=500 \n",
            "[CV]  colsample_bytree=0.6, learning_rate=0.01, max_depth=10, n_estimators=500, total=  12.3s\n",
            "[CV] colsample_bytree=0.6, learning_rate=0.01, max_depth=20, n_estimators=400 \n",
            "[CV]  colsample_bytree=0.6, learning_rate=0.01, max_depth=20, n_estimators=400, total= 4.3min\n",
            "[CV] colsample_bytree=0.6, learning_rate=0.01, max_depth=20, n_estimators=400 \n",
            "[CV]  colsample_bytree=0.6, learning_rate=0.01, max_depth=20, n_estimators=400, total= 4.2min\n",
            "[CV] colsample_bytree=0.6, learning_rate=0.01, max_depth=20, n_estimators=400 \n",
            "[CV]  colsample_bytree=0.6, learning_rate=0.01, max_depth=20, n_estimators=400, total= 4.1min\n",
            "[CV] colsample_bytree=0.6, learning_rate=0.01, max_depth=20, n_estimators=500 \n",
            "[CV]  colsample_bytree=0.6, learning_rate=0.01, max_depth=20, n_estimators=500, total= 5.2min\n",
            "[CV] colsample_bytree=0.6, learning_rate=0.01, max_depth=20, n_estimators=500 \n",
            "[CV]  colsample_bytree=0.6, learning_rate=0.01, max_depth=20, n_estimators=500, total= 5.2min\n",
            "[CV] colsample_bytree=0.6, learning_rate=0.01, max_depth=20, n_estimators=500 \n",
            "[CV]  colsample_bytree=0.6, learning_rate=0.01, max_depth=20, n_estimators=500, total= 5.1min\n",
            "[CV] colsample_bytree=0.6, learning_rate=0.05, max_depth=10, n_estimators=400 \n",
            "[CV]  colsample_bytree=0.6, learning_rate=0.05, max_depth=10, n_estimators=400, total=  10.1s\n",
            "[CV] colsample_bytree=0.6, learning_rate=0.05, max_depth=10, n_estimators=400 \n",
            "[CV]  colsample_bytree=0.6, learning_rate=0.05, max_depth=10, n_estimators=400, total=  10.2s\n",
            "[CV] colsample_bytree=0.6, learning_rate=0.05, max_depth=10, n_estimators=400 \n",
            "[CV]  colsample_bytree=0.6, learning_rate=0.05, max_depth=10, n_estimators=400, total=  10.0s\n",
            "[CV] colsample_bytree=0.6, learning_rate=0.05, max_depth=10, n_estimators=500 \n",
            "[CV]  colsample_bytree=0.6, learning_rate=0.05, max_depth=10, n_estimators=500, total=  12.9s\n",
            "[CV] colsample_bytree=0.6, learning_rate=0.05, max_depth=10, n_estimators=500 \n",
            "[CV]  colsample_bytree=0.6, learning_rate=0.05, max_depth=10, n_estimators=500, total=  12.7s\n",
            "[CV] colsample_bytree=0.6, learning_rate=0.05, max_depth=10, n_estimators=500 \n",
            "[CV]  colsample_bytree=0.6, learning_rate=0.05, max_depth=10, n_estimators=500, total=  12.8s\n",
            "[CV] colsample_bytree=0.6, learning_rate=0.05, max_depth=20, n_estimators=400 \n",
            "[CV]  colsample_bytree=0.6, learning_rate=0.05, max_depth=20, n_estimators=400, total= 3.5min\n",
            "[CV] colsample_bytree=0.6, learning_rate=0.05, max_depth=20, n_estimators=400 \n",
            "[CV]  colsample_bytree=0.6, learning_rate=0.05, max_depth=20, n_estimators=400, total= 3.3min\n",
            "[CV] colsample_bytree=0.6, learning_rate=0.05, max_depth=20, n_estimators=400 \n",
            "[CV]  colsample_bytree=0.6, learning_rate=0.05, max_depth=20, n_estimators=400, total= 3.4min\n",
            "[CV] colsample_bytree=0.6, learning_rate=0.05, max_depth=20, n_estimators=500 \n",
            "[CV]  colsample_bytree=0.6, learning_rate=0.05, max_depth=20, n_estimators=500, total= 4.5min\n",
            "[CV] colsample_bytree=0.6, learning_rate=0.05, max_depth=20, n_estimators=500 \n",
            "[CV]  colsample_bytree=0.6, learning_rate=0.05, max_depth=20, n_estimators=500, total= 4.1min\n",
            "[CV] colsample_bytree=0.6, learning_rate=0.05, max_depth=20, n_estimators=500 \n",
            "[CV]  colsample_bytree=0.6, learning_rate=0.05, max_depth=20, n_estimators=500, total= 4.4min\n"
          ]
        },
        {
          "output_type": "stream",
          "name": "stderr",
          "text": [
            "[Parallel(n_jobs=1)]: Done  48 out of  48 | elapsed: 101.7min finished\n"
          ]
        },
        {
          "output_type": "execute_result",
          "data": {
            "text/plain": [
              "GridSearchCV(cv=3, error_score=nan,\n",
              "             estimator=XGBRegressor(base_score=0.5, booster='gbtree',\n",
              "                                    colsample_bylevel=1, colsample_bynode=1,\n",
              "                                    colsample_bytree=1, gamma=0, gpu_id=0,\n",
              "                                    importance_type='gain', learning_rate=0.1,\n",
              "                                    max_delta_step=0, max_depth=3,\n",
              "                                    min_child_weight=1, missing=None,\n",
              "                                    n_estimators=100, n_jobs=1, nthread=None,\n",
              "                                    objective='reg:squarederror',\n",
              "                                    random_state=0, r...\n",
              "                                    scale_pos_weight=1, seed=None, silent=None,\n",
              "                                    subsample=1, tree_method='gpu_hist',\n",
              "                                    verbosity=1),\n",
              "             iid='deprecated', n_jobs=None,\n",
              "             param_grid={'colsample_bytree': [0.5, 0.6],\n",
              "                         'learning_rate': [0.01, 0.05], 'max_depth': [10, 20],\n",
              "                         'n_estimators': [400, 500]},\n",
              "             pre_dispatch='2*n_jobs', refit=True, return_train_score=False,\n",
              "             scoring=make_scorer(rmsle, greater_is_better=False), verbose=2)"
            ]
          },
          "metadata": {},
          "execution_count": 17
        }
      ]
    },
    {
      "cell_type": "code",
      "metadata": {
        "colab": {
          "base_uri": "https://localhost:8080/"
        },
        "id": "m3k8cV4s4sD5",
        "outputId": "6b37313e-eabd-4dbc-fbfe-75b89851b3cc"
      },
      "source": [
        "xgbr_grid.best_estimator_"
      ],
      "execution_count": 18,
      "outputs": [
        {
          "output_type": "execute_result",
          "data": {
            "text/plain": [
              "XGBRegressor(base_score=0.5, booster='gbtree', colsample_bylevel=1,\n",
              "             colsample_bynode=1, colsample_bytree=0.6, gamma=0, gpu_id=0,\n",
              "             importance_type='gain', learning_rate=0.05, max_delta_step=0,\n",
              "             max_depth=10, min_child_weight=1, missing=None, n_estimators=500,\n",
              "             n_jobs=1, nthread=None, objective='reg:squarederror',\n",
              "             random_state=0, reg_alpha=0, reg_lambda=1, scale_pos_weight=1,\n",
              "             seed=None, silent=None, subsample=1, tree_method='gpu_hist',\n",
              "             verbosity=1)"
            ]
          },
          "metadata": {},
          "execution_count": 18
        }
      ]
    },
    {
      "cell_type": "code",
      "metadata": {
        "colab": {
          "base_uri": "https://localhost:8080/"
        },
        "id": "OzORW7AH4wpp",
        "outputId": "4902b236-a39b-4149-fc2f-750a28526ac7"
      },
      "source": [
        "rmsle(xgbr_grid.predict(X_test),y_test)"
      ],
      "execution_count": 31,
      "outputs": [
        {
          "output_type": "execute_result",
          "data": {
            "text/plain": [
              "0.556337243036246"
            ]
          },
          "metadata": {},
          "execution_count": 31
        }
      ]
    },
    {
      "cell_type": "code",
      "metadata": {
        "colab": {
          "base_uri": "https://localhost:8080/"
        },
        "id": "ynk8EA9p4yfS",
        "outputId": "ce5b8575-fb22-408c-ce42-eab613999e55"
      },
      "source": [
        "xgbr_best=xgb.XGBRegressor(objective='reg:squarederror', tree_method='gpu_hist', gpu_id=0, **xgbr_grid.best_params_)\n",
        "xgbr_best.fit(X_train, y_train)"
      ],
      "execution_count": 34,
      "outputs": [
        {
          "output_type": "execute_result",
          "data": {
            "text/plain": [
              "XGBRegressor(base_score=0.5, booster='gbtree', colsample_bylevel=1,\n",
              "             colsample_bynode=1, colsample_bytree=0.6, gamma=0, gpu_id=0,\n",
              "             importance_type='gain', learning_rate=0.05, max_delta_step=0,\n",
              "             max_depth=10, min_child_weight=1, missing=None, n_estimators=500,\n",
              "             n_jobs=1, nthread=None, objective='reg:squarederror',\n",
              "             random_state=0, reg_alpha=0, reg_lambda=1, scale_pos_weight=1,\n",
              "             seed=None, silent=None, subsample=1, tree_method='gpu_hist',\n",
              "             verbosity=1)"
            ]
          },
          "metadata": {},
          "execution_count": 34
        }
      ]
    },
    {
      "cell_type": "code",
      "metadata": {
        "colab": {
          "base_uri": "https://localhost:8080/"
        },
        "id": "aba8mwBh40ik",
        "outputId": "d0b25c3b-00ed-426c-883a-a06ab44c4265"
      },
      "source": [
        "rmsle(xgbr_best.predict(X_test),y_test)#RandomForest = 0.6684"
      ],
      "execution_count": 35,
      "outputs": [
        {
          "output_type": "execute_result",
          "data": {
            "text/plain": [
              "0.556337243036246"
            ]
          },
          "metadata": {},
          "execution_count": 35
        }
      ]
    },
    {
      "cell_type": "code",
      "metadata": {
        "colab": {
          "base_uri": "https://localhost:8080/",
          "height": 444
        },
        "id": "dw0Snsg342bO",
        "outputId": "1d0cbbbd-2a3e-42a1-9842-f10fc772ae64"
      },
      "source": [
        "import matplotlib.pyplot as plt \n",
        "fig = plt.figure(figsize=(10,7))\n",
        "x_ax = range(len(y_test))\n",
        "plt.plot(x_ax, y_test, label=\"original\")\n",
        "plt.plot(x_ax, xgbr_best.predict(X_test), label=\"predicted\")\n",
        "plt.title('XGBRegressor')\n",
        "plt.legend()\n",
        "plt.show()"
      ],
      "execution_count": 36,
      "outputs": [
        {
          "output_type": "display_data",
          "data": {
            "image/png": "[encoded data removed]",
            "text/plain": [
              "<Figure size 720x504 with 1 Axes>"
            ]
          },
          "metadata": {
            "needs_background": "light"
          }
        }
      ]
    },
    {
      "cell_type": "code",
      "metadata": {
        "id": "zUsFO1vu44lj"
      },
      "source": [
        ""
      ],
      "execution_count": null,
      "outputs": []
    }
  ]
}